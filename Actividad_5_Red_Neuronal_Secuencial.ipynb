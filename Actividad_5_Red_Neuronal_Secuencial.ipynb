{
  "nbformat": 4,
  "nbformat_minor": 0,
  "metadata": {
    "colab": {
      "provenance": []
    },
    "kernelspec": {
      "name": "python3",
      "display_name": "Python 3"
    },
    "language_info": {
      "name": "python"
    }
  },
  "cells": [
    {
      "cell_type": "markdown",
      "source": [
        "# Descripción del problema"
      ],
      "metadata": {
        "id": "3Sds9hYV-geo"
      }
    },
    {
      "cell_type": "markdown",
      "source": [
        "**Diabetes**\n",
        "\n",
        "Se busca a partir de las 442 observaciones de enfermos con diabetes, predecir la progresión de la enfermedad a un años después de su diagnóstico.\n",
        "La base de datos esta compuesta por 10 características y la variable a predecir:\n",
        "\n",
        "\n",
        "*   age: edad en años\n",
        "*   sex: Genero del paciente\n",
        "*   bmi: índice de masa corporal\n",
        "*   bp: presión arterial media\n",
        "*   s1 tc, células T (un tipo de glóbulos blancos)\n",
        "*   s2 ldl, lipoproteínas de baja densidad\n",
        "*   s3 hdl, lipoproteínas de alta densidad\n",
        "*   s4 tch, hormona estimulante de la tiroides\n",
        "*   s5 ltg, lamotrigina\n",
        "*   glu s6, nivel de azúcar en sangre\n",
        "\n",
        "Este dataset se encuentra dentro de la librería sklearn:\n",
        "diabetes = datasets.load_diabetes()"
      ],
      "metadata": {
        "id": "gg7xzOnI-qg-"
      }
    },
    {
      "cell_type": "markdown",
      "source": [
        "# Importación de librerias"
      ],
      "metadata": {
        "id": "t7OBnOpP-CmA"
      }
    },
    {
      "cell_type": "code",
      "execution_count": 1,
      "metadata": {
        "id": "-b12Wgw9-AEY"
      },
      "outputs": [],
      "source": [
        "import pandas as pd\n",
        "import numpy as np\n",
        "import seaborn as sns\n",
        "import matplotlib.pyplot as plt\n",
        "import tensorflow as tf           # Aprendizaje Automático\n",
        "import scipy.stats as stats\n",
        "%matplotlib inline\n",
        "\n",
        "import tensorflow as tf\n",
        "optimizer = tf.keras.optimizers.Adam()"
      ]
    },
    {
      "cell_type": "markdown",
      "source": [
        "# Cargar Dataset"
      ],
      "metadata": {
        "id": "fD7_7RUbBomq"
      }
    },
    {
      "cell_type": "code",
      "source": [
        "from sklearn import datasets\n",
        "\n",
        "diabetes = datasets.load_diabetes()\n",
        "\n",
        "df = pd.DataFrame(data=diabetes.data, columns=diabetes.feature_names)\n",
        "\n",
        "df['target'] = diabetes.target\n",
        "\n",
        "print(diabetes.keys(),\"\\n\")\n",
        "print(\"Llaves del dataframe: \", df.keys(), \"\\n\")"
      ],
      "metadata": {
        "id": "VVG8FmqXBs6B",
        "colab": {
          "base_uri": "https://localhost:8080/"
        },
        "outputId": "88c9074c-0bca-4dfd-acfc-d1ef57a5d574"
      },
      "execution_count": 2,
      "outputs": [
        {
          "output_type": "stream",
          "name": "stdout",
          "text": [
            "dict_keys(['data', 'target', 'frame', 'DESCR', 'feature_names', 'data_filename', 'target_filename', 'data_module']) \n",
            "\n",
            "Llaves del dataframe:  Index(['age', 'sex', 'bmi', 'bp', 's1', 's2', 's3', 's4', 's5', 's6',\n",
            "       'target'],\n",
            "      dtype='object') \n",
            "\n"
          ]
        }
      ]
    },
    {
      "cell_type": "markdown",
      "source": [
        "# Decripción de datos"
      ],
      "metadata": {
        "id": "m4o0_0ijB59e"
      }
    },
    {
      "cell_type": "code",
      "source": [
        "df.info()"
      ],
      "metadata": {
        "id": "rjCs8NDpC7QB",
        "colab": {
          "base_uri": "https://localhost:8080/"
        },
        "outputId": "e2a1e04d-ab68-49ea-c0f6-7aa2c6c77aa0"
      },
      "execution_count": 3,
      "outputs": [
        {
          "output_type": "stream",
          "name": "stdout",
          "text": [
            "<class 'pandas.core.frame.DataFrame'>\n",
            "RangeIndex: 442 entries, 0 to 441\n",
            "Data columns (total 11 columns):\n",
            " #   Column  Non-Null Count  Dtype  \n",
            "---  ------  --------------  -----  \n",
            " 0   age     442 non-null    float64\n",
            " 1   sex     442 non-null    float64\n",
            " 2   bmi     442 non-null    float64\n",
            " 3   bp      442 non-null    float64\n",
            " 4   s1      442 non-null    float64\n",
            " 5   s2      442 non-null    float64\n",
            " 6   s3      442 non-null    float64\n",
            " 7   s4      442 non-null    float64\n",
            " 8   s5      442 non-null    float64\n",
            " 9   s6      442 non-null    float64\n",
            " 10  target  442 non-null    float64\n",
            "dtypes: float64(11)\n",
            "memory usage: 38.1 KB\n"
          ]
        }
      ]
    },
    {
      "cell_type": "code",
      "source": [
        "df.head()"
      ],
      "metadata": {
        "colab": {
          "base_uri": "https://localhost:8080/",
          "height": 206
        },
        "id": "T2npCGCs1JGP",
        "outputId": "1eb79c3c-f3e9-4183-c7ad-4b4b4407248e"
      },
      "execution_count": 4,
      "outputs": [
        {
          "output_type": "execute_result",
          "data": {
            "text/plain": [
              "        age       sex       bmi        bp        s1        s2        s3  \\\n",
              "0  0.038076  0.050680  0.061696  0.021872 -0.044223 -0.034821 -0.043401   \n",
              "1 -0.001882 -0.044642 -0.051474 -0.026328 -0.008449 -0.019163  0.074412   \n",
              "2  0.085299  0.050680  0.044451 -0.005670 -0.045599 -0.034194 -0.032356   \n",
              "3 -0.089063 -0.044642 -0.011595 -0.036656  0.012191  0.024991 -0.036038   \n",
              "4  0.005383 -0.044642 -0.036385  0.021872  0.003935  0.015596  0.008142   \n",
              "\n",
              "         s4        s5        s6  target  \n",
              "0 -0.002592  0.019907 -0.017646   151.0  \n",
              "1 -0.039493 -0.068332 -0.092204    75.0  \n",
              "2 -0.002592  0.002861 -0.025930   141.0  \n",
              "3  0.034309  0.022688 -0.009362   206.0  \n",
              "4 -0.002592 -0.031988 -0.046641   135.0  "
            ],
            "text/html": [
              "\n",
              "  <div id=\"df-8c90475e-8771-407f-9adb-2d4516a6e413\" class=\"colab-df-container\">\n",
              "    <div>\n",
              "<style scoped>\n",
              "    .dataframe tbody tr th:only-of-type {\n",
              "        vertical-align: middle;\n",
              "    }\n",
              "\n",
              "    .dataframe tbody tr th {\n",
              "        vertical-align: top;\n",
              "    }\n",
              "\n",
              "    .dataframe thead th {\n",
              "        text-align: right;\n",
              "    }\n",
              "</style>\n",
              "<table border=\"1\" class=\"dataframe\">\n",
              "  <thead>\n",
              "    <tr style=\"text-align: right;\">\n",
              "      <th></th>\n",
              "      <th>age</th>\n",
              "      <th>sex</th>\n",
              "      <th>bmi</th>\n",
              "      <th>bp</th>\n",
              "      <th>s1</th>\n",
              "      <th>s2</th>\n",
              "      <th>s3</th>\n",
              "      <th>s4</th>\n",
              "      <th>s5</th>\n",
              "      <th>s6</th>\n",
              "      <th>target</th>\n",
              "    </tr>\n",
              "  </thead>\n",
              "  <tbody>\n",
              "    <tr>\n",
              "      <th>0</th>\n",
              "      <td>0.038076</td>\n",
              "      <td>0.050680</td>\n",
              "      <td>0.061696</td>\n",
              "      <td>0.021872</td>\n",
              "      <td>-0.044223</td>\n",
              "      <td>-0.034821</td>\n",
              "      <td>-0.043401</td>\n",
              "      <td>-0.002592</td>\n",
              "      <td>0.019907</td>\n",
              "      <td>-0.017646</td>\n",
              "      <td>151.0</td>\n",
              "    </tr>\n",
              "    <tr>\n",
              "      <th>1</th>\n",
              "      <td>-0.001882</td>\n",
              "      <td>-0.044642</td>\n",
              "      <td>-0.051474</td>\n",
              "      <td>-0.026328</td>\n",
              "      <td>-0.008449</td>\n",
              "      <td>-0.019163</td>\n",
              "      <td>0.074412</td>\n",
              "      <td>-0.039493</td>\n",
              "      <td>-0.068332</td>\n",
              "      <td>-0.092204</td>\n",
              "      <td>75.0</td>\n",
              "    </tr>\n",
              "    <tr>\n",
              "      <th>2</th>\n",
              "      <td>0.085299</td>\n",
              "      <td>0.050680</td>\n",
              "      <td>0.044451</td>\n",
              "      <td>-0.005670</td>\n",
              "      <td>-0.045599</td>\n",
              "      <td>-0.034194</td>\n",
              "      <td>-0.032356</td>\n",
              "      <td>-0.002592</td>\n",
              "      <td>0.002861</td>\n",
              "      <td>-0.025930</td>\n",
              "      <td>141.0</td>\n",
              "    </tr>\n",
              "    <tr>\n",
              "      <th>3</th>\n",
              "      <td>-0.089063</td>\n",
              "      <td>-0.044642</td>\n",
              "      <td>-0.011595</td>\n",
              "      <td>-0.036656</td>\n",
              "      <td>0.012191</td>\n",
              "      <td>0.024991</td>\n",
              "      <td>-0.036038</td>\n",
              "      <td>0.034309</td>\n",
              "      <td>0.022688</td>\n",
              "      <td>-0.009362</td>\n",
              "      <td>206.0</td>\n",
              "    </tr>\n",
              "    <tr>\n",
              "      <th>4</th>\n",
              "      <td>0.005383</td>\n",
              "      <td>-0.044642</td>\n",
              "      <td>-0.036385</td>\n",
              "      <td>0.021872</td>\n",
              "      <td>0.003935</td>\n",
              "      <td>0.015596</td>\n",
              "      <td>0.008142</td>\n",
              "      <td>-0.002592</td>\n",
              "      <td>-0.031988</td>\n",
              "      <td>-0.046641</td>\n",
              "      <td>135.0</td>\n",
              "    </tr>\n",
              "  </tbody>\n",
              "</table>\n",
              "</div>\n",
              "    <div class=\"colab-df-buttons\">\n",
              "\n",
              "  <div class=\"colab-df-container\">\n",
              "    <button class=\"colab-df-convert\" onclick=\"convertToInteractive('df-8c90475e-8771-407f-9adb-2d4516a6e413')\"\n",
              "            title=\"Convert this dataframe to an interactive table.\"\n",
              "            style=\"display:none;\">\n",
              "\n",
              "  <svg xmlns=\"http://www.w3.org/2000/svg\" height=\"24px\" viewBox=\"0 -960 960 960\">\n",
              "    <path d=\"M120-120v-720h720v720H120Zm60-500h600v-160H180v160Zm220 220h160v-160H400v160Zm0 220h160v-160H400v160ZM180-400h160v-160H180v160Zm440 0h160v-160H620v160ZM180-180h160v-160H180v160Zm440 0h160v-160H620v160Z\"/>\n",
              "  </svg>\n",
              "    </button>\n",
              "\n",
              "  <style>\n",
              "    .colab-df-container {\n",
              "      display:flex;\n",
              "      gap: 12px;\n",
              "    }\n",
              "\n",
              "    .colab-df-convert {\n",
              "      background-color: #E8F0FE;\n",
              "      border: none;\n",
              "      border-radius: 50%;\n",
              "      cursor: pointer;\n",
              "      display: none;\n",
              "      fill: #1967D2;\n",
              "      height: 32px;\n",
              "      padding: 0 0 0 0;\n",
              "      width: 32px;\n",
              "    }\n",
              "\n",
              "    .colab-df-convert:hover {\n",
              "      background-color: #E2EBFA;\n",
              "      box-shadow: 0px 1px 2px rgba(60, 64, 67, 0.3), 0px 1px 3px 1px rgba(60, 64, 67, 0.15);\n",
              "      fill: #174EA6;\n",
              "    }\n",
              "\n",
              "    .colab-df-buttons div {\n",
              "      margin-bottom: 4px;\n",
              "    }\n",
              "\n",
              "    [theme=dark] .colab-df-convert {\n",
              "      background-color: #3B4455;\n",
              "      fill: #D2E3FC;\n",
              "    }\n",
              "\n",
              "    [theme=dark] .colab-df-convert:hover {\n",
              "      background-color: #434B5C;\n",
              "      box-shadow: 0px 1px 3px 1px rgba(0, 0, 0, 0.15);\n",
              "      filter: drop-shadow(0px 1px 2px rgba(0, 0, 0, 0.3));\n",
              "      fill: #FFFFFF;\n",
              "    }\n",
              "  </style>\n",
              "\n",
              "    <script>\n",
              "      const buttonEl =\n",
              "        document.querySelector('#df-8c90475e-8771-407f-9adb-2d4516a6e413 button.colab-df-convert');\n",
              "      buttonEl.style.display =\n",
              "        google.colab.kernel.accessAllowed ? 'block' : 'none';\n",
              "\n",
              "      async function convertToInteractive(key) {\n",
              "        const element = document.querySelector('#df-8c90475e-8771-407f-9adb-2d4516a6e413');\n",
              "        const dataTable =\n",
              "          await google.colab.kernel.invokeFunction('convertToInteractive',\n",
              "                                                    [key], {});\n",
              "        if (!dataTable) return;\n",
              "\n",
              "        const docLinkHtml = 'Like what you see? Visit the ' +\n",
              "          '<a target=\"_blank\" href=https://colab.research.google.com/notebooks/data_table.ipynb>data table notebook</a>'\n",
              "          + ' to learn more about interactive tables.';\n",
              "        element.innerHTML = '';\n",
              "        dataTable['output_type'] = 'display_data';\n",
              "        await google.colab.output.renderOutput(dataTable, element);\n",
              "        const docLink = document.createElement('div');\n",
              "        docLink.innerHTML = docLinkHtml;\n",
              "        element.appendChild(docLink);\n",
              "      }\n",
              "    </script>\n",
              "  </div>\n",
              "\n",
              "\n",
              "    <div id=\"df-a51e0df4-4ad3-40c5-914d-3e9a297aa875\">\n",
              "      <button class=\"colab-df-quickchart\" onclick=\"quickchart('df-a51e0df4-4ad3-40c5-914d-3e9a297aa875')\"\n",
              "                title=\"Suggest charts\"\n",
              "                style=\"display:none;\">\n",
              "\n",
              "<svg xmlns=\"http://www.w3.org/2000/svg\" height=\"24px\"viewBox=\"0 0 24 24\"\n",
              "     width=\"24px\">\n",
              "    <g>\n",
              "        <path d=\"M19 3H5c-1.1 0-2 .9-2 2v14c0 1.1.9 2 2 2h14c1.1 0 2-.9 2-2V5c0-1.1-.9-2-2-2zM9 17H7v-7h2v7zm4 0h-2V7h2v10zm4 0h-2v-4h2v4z\"/>\n",
              "    </g>\n",
              "</svg>\n",
              "      </button>\n",
              "\n",
              "<style>\n",
              "  .colab-df-quickchart {\n",
              "      --bg-color: #E8F0FE;\n",
              "      --fill-color: #1967D2;\n",
              "      --hover-bg-color: #E2EBFA;\n",
              "      --hover-fill-color: #174EA6;\n",
              "      --disabled-fill-color: #AAA;\n",
              "      --disabled-bg-color: #DDD;\n",
              "  }\n",
              "\n",
              "  [theme=dark] .colab-df-quickchart {\n",
              "      --bg-color: #3B4455;\n",
              "      --fill-color: #D2E3FC;\n",
              "      --hover-bg-color: #434B5C;\n",
              "      --hover-fill-color: #FFFFFF;\n",
              "      --disabled-bg-color: #3B4455;\n",
              "      --disabled-fill-color: #666;\n",
              "  }\n",
              "\n",
              "  .colab-df-quickchart {\n",
              "    background-color: var(--bg-color);\n",
              "    border: none;\n",
              "    border-radius: 50%;\n",
              "    cursor: pointer;\n",
              "    display: none;\n",
              "    fill: var(--fill-color);\n",
              "    height: 32px;\n",
              "    padding: 0;\n",
              "    width: 32px;\n",
              "  }\n",
              "\n",
              "  .colab-df-quickchart:hover {\n",
              "    background-color: var(--hover-bg-color);\n",
              "    box-shadow: 0 1px 2px rgba(60, 64, 67, 0.3), 0 1px 3px 1px rgba(60, 64, 67, 0.15);\n",
              "    fill: var(--button-hover-fill-color);\n",
              "  }\n",
              "\n",
              "  .colab-df-quickchart-complete:disabled,\n",
              "  .colab-df-quickchart-complete:disabled:hover {\n",
              "    background-color: var(--disabled-bg-color);\n",
              "    fill: var(--disabled-fill-color);\n",
              "    box-shadow: none;\n",
              "  }\n",
              "\n",
              "  .colab-df-spinner {\n",
              "    border: 2px solid var(--fill-color);\n",
              "    border-color: transparent;\n",
              "    border-bottom-color: var(--fill-color);\n",
              "    animation:\n",
              "      spin 1s steps(1) infinite;\n",
              "  }\n",
              "\n",
              "  @keyframes spin {\n",
              "    0% {\n",
              "      border-color: transparent;\n",
              "      border-bottom-color: var(--fill-color);\n",
              "      border-left-color: var(--fill-color);\n",
              "    }\n",
              "    20% {\n",
              "      border-color: transparent;\n",
              "      border-left-color: var(--fill-color);\n",
              "      border-top-color: var(--fill-color);\n",
              "    }\n",
              "    30% {\n",
              "      border-color: transparent;\n",
              "      border-left-color: var(--fill-color);\n",
              "      border-top-color: var(--fill-color);\n",
              "      border-right-color: var(--fill-color);\n",
              "    }\n",
              "    40% {\n",
              "      border-color: transparent;\n",
              "      border-right-color: var(--fill-color);\n",
              "      border-top-color: var(--fill-color);\n",
              "    }\n",
              "    60% {\n",
              "      border-color: transparent;\n",
              "      border-right-color: var(--fill-color);\n",
              "    }\n",
              "    80% {\n",
              "      border-color: transparent;\n",
              "      border-right-color: var(--fill-color);\n",
              "      border-bottom-color: var(--fill-color);\n",
              "    }\n",
              "    90% {\n",
              "      border-color: transparent;\n",
              "      border-bottom-color: var(--fill-color);\n",
              "    }\n",
              "  }\n",
              "</style>\n",
              "\n",
              "      <script>\n",
              "        async function quickchart(key) {\n",
              "          const quickchartButtonEl =\n",
              "            document.querySelector('#' + key + ' button');\n",
              "          quickchartButtonEl.disabled = true;  // To prevent multiple clicks.\n",
              "          quickchartButtonEl.classList.add('colab-df-spinner');\n",
              "          try {\n",
              "            const charts = await google.colab.kernel.invokeFunction(\n",
              "                'suggestCharts', [key], {});\n",
              "          } catch (error) {\n",
              "            console.error('Error during call to suggestCharts:', error);\n",
              "          }\n",
              "          quickchartButtonEl.classList.remove('colab-df-spinner');\n",
              "          quickchartButtonEl.classList.add('colab-df-quickchart-complete');\n",
              "        }\n",
              "        (() => {\n",
              "          let quickchartButtonEl =\n",
              "            document.querySelector('#df-a51e0df4-4ad3-40c5-914d-3e9a297aa875 button');\n",
              "          quickchartButtonEl.style.display =\n",
              "            google.colab.kernel.accessAllowed ? 'block' : 'none';\n",
              "        })();\n",
              "      </script>\n",
              "    </div>\n",
              "\n",
              "    </div>\n",
              "  </div>\n"
            ],
            "application/vnd.google.colaboratory.intrinsic+json": {
              "type": "dataframe",
              "variable_name": "df",
              "summary": "{\n  \"name\": \"df\",\n  \"rows\": 442,\n  \"fields\": [\n    {\n      \"column\": \"age\",\n      \"properties\": {\n        \"dtype\": \"number\",\n        \"std\": 0.0476190476190476,\n        \"min\": -0.1072256316073538,\n        \"max\": 0.11072667545381144,\n        \"num_unique_values\": 58,\n        \"samples\": [\n          0.038075906433423026,\n          -0.09269547780327612,\n          0.01991321417832592\n        ],\n        \"semantic_type\": \"\",\n        \"description\": \"\"\n      }\n    },\n    {\n      \"column\": \"sex\",\n      \"properties\": {\n        \"dtype\": \"number\",\n        \"std\": 0.0476190476190478,\n        \"min\": -0.044641636506989144,\n        \"max\": 0.05068011873981862,\n        \"num_unique_values\": 2,\n        \"samples\": [\n          -0.044641636506989144,\n          0.05068011873981862\n        ],\n        \"semantic_type\": \"\",\n        \"description\": \"\"\n      }\n    },\n    {\n      \"column\": \"bmi\",\n      \"properties\": {\n        \"dtype\": \"number\",\n        \"std\": 0.04761904761904761,\n        \"min\": -0.09027529589850945,\n        \"max\": 0.17055522598064407,\n        \"num_unique_values\": 163,\n        \"samples\": [\n          0.008883414898524095,\n          -0.05470749746044306\n        ],\n        \"semantic_type\": \"\",\n        \"description\": \"\"\n      }\n    },\n    {\n      \"column\": \"bp\",\n      \"properties\": {\n        \"dtype\": \"number\",\n        \"std\": 0.04761904761904762,\n        \"min\": -0.11239880254408448,\n        \"max\": 0.13204361674121307,\n        \"num_unique_values\": 100,\n        \"samples\": [\n          0.03333707926361473,\n          0.02531523648988596\n        ],\n        \"semantic_type\": \"\",\n        \"description\": \"\"\n      }\n    },\n    {\n      \"column\": \"s1\",\n      \"properties\": {\n        \"dtype\": \"number\",\n        \"std\": 0.047619047619047554,\n        \"min\": -0.12678066991651324,\n        \"max\": 0.15391371315651542,\n        \"num_unique_values\": 141,\n        \"samples\": [\n          0.041085578784023497,\n          0.08374011738825825\n        ],\n        \"semantic_type\": \"\",\n        \"description\": \"\"\n      }\n    },\n    {\n      \"column\": \"s2\",\n      \"properties\": {\n        \"dtype\": \"number\",\n        \"std\": 0.047619047619047644,\n        \"min\": -0.11561306597939897,\n        \"max\": 0.19878798965729408,\n        \"num_unique_values\": 302,\n        \"samples\": [\n          0.07415490186505921,\n          0.07008397186179521\n        ],\n        \"semantic_type\": \"\",\n        \"description\": \"\"\n      }\n    },\n    {\n      \"column\": \"s3\",\n      \"properties\": {\n        \"dtype\": \"number\",\n        \"std\": 0.04761904761904758,\n        \"min\": -0.10230705051741597,\n        \"max\": 0.18117906039727852,\n        \"num_unique_values\": 63,\n        \"samples\": [\n          0.09281975309919192,\n          0.15908923357275687\n        ],\n        \"semantic_type\": \"\",\n        \"description\": \"\"\n      }\n    },\n    {\n      \"column\": \"s4\",\n      \"properties\": {\n        \"dtype\": \"number\",\n        \"std\": 0.047619047619047554,\n        \"min\": -0.0763945037500033,\n        \"max\": 0.18523444326019867,\n        \"num_unique_values\": 66,\n        \"samples\": [\n          0.08670845052151895,\n          -0.024732934523729287\n        ],\n        \"semantic_type\": \"\",\n        \"description\": \"\"\n      }\n    },\n    {\n      \"column\": \"s5\",\n      \"properties\": {\n        \"dtype\": \"number\",\n        \"std\": 0.04761904761904763,\n        \"min\": -0.12609712083330468,\n        \"max\": 0.13359728192191356,\n        \"num_unique_values\": 184,\n        \"samples\": [\n          -0.07213275338232743,\n          -0.021395309255276825\n        ],\n        \"semantic_type\": \"\",\n        \"description\": \"\"\n      }\n    },\n    {\n      \"column\": \"s6\",\n      \"properties\": {\n        \"dtype\": \"number\",\n        \"std\": 0.04761904761904766,\n        \"min\": -0.13776722569000302,\n        \"max\": 0.13561183068907107,\n        \"num_unique_values\": 56,\n        \"samples\": [\n          -0.01764612515980379,\n          -0.09634615654165846\n        ],\n        \"semantic_type\": \"\",\n        \"description\": \"\"\n      }\n    },\n    {\n      \"column\": \"target\",\n      \"properties\": {\n        \"dtype\": \"number\",\n        \"std\": 77.09300453299109,\n        \"min\": 25.0,\n        \"max\": 346.0,\n        \"num_unique_values\": 214,\n        \"samples\": [\n          310.0,\n          140.0\n        ],\n        \"semantic_type\": \"\",\n        \"description\": \"\"\n      }\n    }\n  ]\n}"
            }
          },
          "metadata": {},
          "execution_count": 4
        }
      ]
    },
    {
      "cell_type": "code",
      "source": [
        "df.describe()"
      ],
      "metadata": {
        "colab": {
          "base_uri": "https://localhost:8080/",
          "height": 390
        },
        "id": "Lv2GEq3B2YGj",
        "outputId": "ddce9add-55b9-4fa0-c036-36b067a205fe"
      },
      "execution_count": 5,
      "outputs": [
        {
          "output_type": "execute_result",
          "data": {
            "text/plain": [
              "                age           sex           bmi            bp            s1  \\\n",
              "count  4.420000e+02  4.420000e+02  4.420000e+02  4.420000e+02  4.420000e+02   \n",
              "mean  -2.511817e-19  1.230790e-17 -2.245564e-16 -4.797570e-17 -1.381499e-17   \n",
              "std    4.761905e-02  4.761905e-02  4.761905e-02  4.761905e-02  4.761905e-02   \n",
              "min   -1.072256e-01 -4.464164e-02 -9.027530e-02 -1.123988e-01 -1.267807e-01   \n",
              "25%   -3.729927e-02 -4.464164e-02 -3.422907e-02 -3.665608e-02 -3.424784e-02   \n",
              "50%    5.383060e-03 -4.464164e-02 -7.283766e-03 -5.670422e-03 -4.320866e-03   \n",
              "75%    3.807591e-02  5.068012e-02  3.124802e-02  3.564379e-02  2.835801e-02   \n",
              "max    1.107267e-01  5.068012e-02  1.705552e-01  1.320436e-01  1.539137e-01   \n",
              "\n",
              "                 s2            s3            s4            s5            s6  \\\n",
              "count  4.420000e+02  4.420000e+02  4.420000e+02  4.420000e+02  4.420000e+02   \n",
              "mean   3.918434e-17 -5.777179e-18 -9.042540e-18  9.293722e-17  1.130318e-17   \n",
              "std    4.761905e-02  4.761905e-02  4.761905e-02  4.761905e-02  4.761905e-02   \n",
              "min   -1.156131e-01 -1.023071e-01 -7.639450e-02 -1.260971e-01 -1.377672e-01   \n",
              "25%   -3.035840e-02 -3.511716e-02 -3.949338e-02 -3.324559e-02 -3.317903e-02   \n",
              "50%   -3.819065e-03 -6.584468e-03 -2.592262e-03 -1.947171e-03 -1.077698e-03   \n",
              "75%    2.984439e-02  2.931150e-02  3.430886e-02  3.243232e-02  2.791705e-02   \n",
              "max    1.987880e-01  1.811791e-01  1.852344e-01  1.335973e-01  1.356118e-01   \n",
              "\n",
              "           target  \n",
              "count  442.000000  \n",
              "mean   152.133484  \n",
              "std     77.093005  \n",
              "min     25.000000  \n",
              "25%     87.000000  \n",
              "50%    140.500000  \n",
              "75%    211.500000  \n",
              "max    346.000000  "
            ],
            "text/html": [
              "\n",
              "  <div id=\"df-266b444a-837c-4351-b13a-10376c03573c\" class=\"colab-df-container\">\n",
              "    <div>\n",
              "<style scoped>\n",
              "    .dataframe tbody tr th:only-of-type {\n",
              "        vertical-align: middle;\n",
              "    }\n",
              "\n",
              "    .dataframe tbody tr th {\n",
              "        vertical-align: top;\n",
              "    }\n",
              "\n",
              "    .dataframe thead th {\n",
              "        text-align: right;\n",
              "    }\n",
              "</style>\n",
              "<table border=\"1\" class=\"dataframe\">\n",
              "  <thead>\n",
              "    <tr style=\"text-align: right;\">\n",
              "      <th></th>\n",
              "      <th>age</th>\n",
              "      <th>sex</th>\n",
              "      <th>bmi</th>\n",
              "      <th>bp</th>\n",
              "      <th>s1</th>\n",
              "      <th>s2</th>\n",
              "      <th>s3</th>\n",
              "      <th>s4</th>\n",
              "      <th>s5</th>\n",
              "      <th>s6</th>\n",
              "      <th>target</th>\n",
              "    </tr>\n",
              "  </thead>\n",
              "  <tbody>\n",
              "    <tr>\n",
              "      <th>count</th>\n",
              "      <td>4.420000e+02</td>\n",
              "      <td>4.420000e+02</td>\n",
              "      <td>4.420000e+02</td>\n",
              "      <td>4.420000e+02</td>\n",
              "      <td>4.420000e+02</td>\n",
              "      <td>4.420000e+02</td>\n",
              "      <td>4.420000e+02</td>\n",
              "      <td>4.420000e+02</td>\n",
              "      <td>4.420000e+02</td>\n",
              "      <td>4.420000e+02</td>\n",
              "      <td>442.000000</td>\n",
              "    </tr>\n",
              "    <tr>\n",
              "      <th>mean</th>\n",
              "      <td>-2.511817e-19</td>\n",
              "      <td>1.230790e-17</td>\n",
              "      <td>-2.245564e-16</td>\n",
              "      <td>-4.797570e-17</td>\n",
              "      <td>-1.381499e-17</td>\n",
              "      <td>3.918434e-17</td>\n",
              "      <td>-5.777179e-18</td>\n",
              "      <td>-9.042540e-18</td>\n",
              "      <td>9.293722e-17</td>\n",
              "      <td>1.130318e-17</td>\n",
              "      <td>152.133484</td>\n",
              "    </tr>\n",
              "    <tr>\n",
              "      <th>std</th>\n",
              "      <td>4.761905e-02</td>\n",
              "      <td>4.761905e-02</td>\n",
              "      <td>4.761905e-02</td>\n",
              "      <td>4.761905e-02</td>\n",
              "      <td>4.761905e-02</td>\n",
              "      <td>4.761905e-02</td>\n",
              "      <td>4.761905e-02</td>\n",
              "      <td>4.761905e-02</td>\n",
              "      <td>4.761905e-02</td>\n",
              "      <td>4.761905e-02</td>\n",
              "      <td>77.093005</td>\n",
              "    </tr>\n",
              "    <tr>\n",
              "      <th>min</th>\n",
              "      <td>-1.072256e-01</td>\n",
              "      <td>-4.464164e-02</td>\n",
              "      <td>-9.027530e-02</td>\n",
              "      <td>-1.123988e-01</td>\n",
              "      <td>-1.267807e-01</td>\n",
              "      <td>-1.156131e-01</td>\n",
              "      <td>-1.023071e-01</td>\n",
              "      <td>-7.639450e-02</td>\n",
              "      <td>-1.260971e-01</td>\n",
              "      <td>-1.377672e-01</td>\n",
              "      <td>25.000000</td>\n",
              "    </tr>\n",
              "    <tr>\n",
              "      <th>25%</th>\n",
              "      <td>-3.729927e-02</td>\n",
              "      <td>-4.464164e-02</td>\n",
              "      <td>-3.422907e-02</td>\n",
              "      <td>-3.665608e-02</td>\n",
              "      <td>-3.424784e-02</td>\n",
              "      <td>-3.035840e-02</td>\n",
              "      <td>-3.511716e-02</td>\n",
              "      <td>-3.949338e-02</td>\n",
              "      <td>-3.324559e-02</td>\n",
              "      <td>-3.317903e-02</td>\n",
              "      <td>87.000000</td>\n",
              "    </tr>\n",
              "    <tr>\n",
              "      <th>50%</th>\n",
              "      <td>5.383060e-03</td>\n",
              "      <td>-4.464164e-02</td>\n",
              "      <td>-7.283766e-03</td>\n",
              "      <td>-5.670422e-03</td>\n",
              "      <td>-4.320866e-03</td>\n",
              "      <td>-3.819065e-03</td>\n",
              "      <td>-6.584468e-03</td>\n",
              "      <td>-2.592262e-03</td>\n",
              "      <td>-1.947171e-03</td>\n",
              "      <td>-1.077698e-03</td>\n",
              "      <td>140.500000</td>\n",
              "    </tr>\n",
              "    <tr>\n",
              "      <th>75%</th>\n",
              "      <td>3.807591e-02</td>\n",
              "      <td>5.068012e-02</td>\n",
              "      <td>3.124802e-02</td>\n",
              "      <td>3.564379e-02</td>\n",
              "      <td>2.835801e-02</td>\n",
              "      <td>2.984439e-02</td>\n",
              "      <td>2.931150e-02</td>\n",
              "      <td>3.430886e-02</td>\n",
              "      <td>3.243232e-02</td>\n",
              "      <td>2.791705e-02</td>\n",
              "      <td>211.500000</td>\n",
              "    </tr>\n",
              "    <tr>\n",
              "      <th>max</th>\n",
              "      <td>1.107267e-01</td>\n",
              "      <td>5.068012e-02</td>\n",
              "      <td>1.705552e-01</td>\n",
              "      <td>1.320436e-01</td>\n",
              "      <td>1.539137e-01</td>\n",
              "      <td>1.987880e-01</td>\n",
              "      <td>1.811791e-01</td>\n",
              "      <td>1.852344e-01</td>\n",
              "      <td>1.335973e-01</td>\n",
              "      <td>1.356118e-01</td>\n",
              "      <td>346.000000</td>\n",
              "    </tr>\n",
              "  </tbody>\n",
              "</table>\n",
              "</div>\n",
              "    <div class=\"colab-df-buttons\">\n",
              "\n",
              "  <div class=\"colab-df-container\">\n",
              "    <button class=\"colab-df-convert\" onclick=\"convertToInteractive('df-266b444a-837c-4351-b13a-10376c03573c')\"\n",
              "            title=\"Convert this dataframe to an interactive table.\"\n",
              "            style=\"display:none;\">\n",
              "\n",
              "  <svg xmlns=\"http://www.w3.org/2000/svg\" height=\"24px\" viewBox=\"0 -960 960 960\">\n",
              "    <path d=\"M120-120v-720h720v720H120Zm60-500h600v-160H180v160Zm220 220h160v-160H400v160Zm0 220h160v-160H400v160ZM180-400h160v-160H180v160Zm440 0h160v-160H620v160ZM180-180h160v-160H180v160Zm440 0h160v-160H620v160Z\"/>\n",
              "  </svg>\n",
              "    </button>\n",
              "\n",
              "  <style>\n",
              "    .colab-df-container {\n",
              "      display:flex;\n",
              "      gap: 12px;\n",
              "    }\n",
              "\n",
              "    .colab-df-convert {\n",
              "      background-color: #E8F0FE;\n",
              "      border: none;\n",
              "      border-radius: 50%;\n",
              "      cursor: pointer;\n",
              "      display: none;\n",
              "      fill: #1967D2;\n",
              "      height: 32px;\n",
              "      padding: 0 0 0 0;\n",
              "      width: 32px;\n",
              "    }\n",
              "\n",
              "    .colab-df-convert:hover {\n",
              "      background-color: #E2EBFA;\n",
              "      box-shadow: 0px 1px 2px rgba(60, 64, 67, 0.3), 0px 1px 3px 1px rgba(60, 64, 67, 0.15);\n",
              "      fill: #174EA6;\n",
              "    }\n",
              "\n",
              "    .colab-df-buttons div {\n",
              "      margin-bottom: 4px;\n",
              "    }\n",
              "\n",
              "    [theme=dark] .colab-df-convert {\n",
              "      background-color: #3B4455;\n",
              "      fill: #D2E3FC;\n",
              "    }\n",
              "\n",
              "    [theme=dark] .colab-df-convert:hover {\n",
              "      background-color: #434B5C;\n",
              "      box-shadow: 0px 1px 3px 1px rgba(0, 0, 0, 0.15);\n",
              "      filter: drop-shadow(0px 1px 2px rgba(0, 0, 0, 0.3));\n",
              "      fill: #FFFFFF;\n",
              "    }\n",
              "  </style>\n",
              "\n",
              "    <script>\n",
              "      const buttonEl =\n",
              "        document.querySelector('#df-266b444a-837c-4351-b13a-10376c03573c button.colab-df-convert');\n",
              "      buttonEl.style.display =\n",
              "        google.colab.kernel.accessAllowed ? 'block' : 'none';\n",
              "\n",
              "      async function convertToInteractive(key) {\n",
              "        const element = document.querySelector('#df-266b444a-837c-4351-b13a-10376c03573c');\n",
              "        const dataTable =\n",
              "          await google.colab.kernel.invokeFunction('convertToInteractive',\n",
              "                                                    [key], {});\n",
              "        if (!dataTable) return;\n",
              "\n",
              "        const docLinkHtml = 'Like what you see? Visit the ' +\n",
              "          '<a target=\"_blank\" href=https://colab.research.google.com/notebooks/data_table.ipynb>data table notebook</a>'\n",
              "          + ' to learn more about interactive tables.';\n",
              "        element.innerHTML = '';\n",
              "        dataTable['output_type'] = 'display_data';\n",
              "        await google.colab.output.renderOutput(dataTable, element);\n",
              "        const docLink = document.createElement('div');\n",
              "        docLink.innerHTML = docLinkHtml;\n",
              "        element.appendChild(docLink);\n",
              "      }\n",
              "    </script>\n",
              "  </div>\n",
              "\n",
              "\n",
              "    <div id=\"df-4e5ea3a3-8673-43b9-abcf-1f2dcf07bcd4\">\n",
              "      <button class=\"colab-df-quickchart\" onclick=\"quickchart('df-4e5ea3a3-8673-43b9-abcf-1f2dcf07bcd4')\"\n",
              "                title=\"Suggest charts\"\n",
              "                style=\"display:none;\">\n",
              "\n",
              "<svg xmlns=\"http://www.w3.org/2000/svg\" height=\"24px\"viewBox=\"0 0 24 24\"\n",
              "     width=\"24px\">\n",
              "    <g>\n",
              "        <path d=\"M19 3H5c-1.1 0-2 .9-2 2v14c0 1.1.9 2 2 2h14c1.1 0 2-.9 2-2V5c0-1.1-.9-2-2-2zM9 17H7v-7h2v7zm4 0h-2V7h2v10zm4 0h-2v-4h2v4z\"/>\n",
              "    </g>\n",
              "</svg>\n",
              "      </button>\n",
              "\n",
              "<style>\n",
              "  .colab-df-quickchart {\n",
              "      --bg-color: #E8F0FE;\n",
              "      --fill-color: #1967D2;\n",
              "      --hover-bg-color: #E2EBFA;\n",
              "      --hover-fill-color: #174EA6;\n",
              "      --disabled-fill-color: #AAA;\n",
              "      --disabled-bg-color: #DDD;\n",
              "  }\n",
              "\n",
              "  [theme=dark] .colab-df-quickchart {\n",
              "      --bg-color: #3B4455;\n",
              "      --fill-color: #D2E3FC;\n",
              "      --hover-bg-color: #434B5C;\n",
              "      --hover-fill-color: #FFFFFF;\n",
              "      --disabled-bg-color: #3B4455;\n",
              "      --disabled-fill-color: #666;\n",
              "  }\n",
              "\n",
              "  .colab-df-quickchart {\n",
              "    background-color: var(--bg-color);\n",
              "    border: none;\n",
              "    border-radius: 50%;\n",
              "    cursor: pointer;\n",
              "    display: none;\n",
              "    fill: var(--fill-color);\n",
              "    height: 32px;\n",
              "    padding: 0;\n",
              "    width: 32px;\n",
              "  }\n",
              "\n",
              "  .colab-df-quickchart:hover {\n",
              "    background-color: var(--hover-bg-color);\n",
              "    box-shadow: 0 1px 2px rgba(60, 64, 67, 0.3), 0 1px 3px 1px rgba(60, 64, 67, 0.15);\n",
              "    fill: var(--button-hover-fill-color);\n",
              "  }\n",
              "\n",
              "  .colab-df-quickchart-complete:disabled,\n",
              "  .colab-df-quickchart-complete:disabled:hover {\n",
              "    background-color: var(--disabled-bg-color);\n",
              "    fill: var(--disabled-fill-color);\n",
              "    box-shadow: none;\n",
              "  }\n",
              "\n",
              "  .colab-df-spinner {\n",
              "    border: 2px solid var(--fill-color);\n",
              "    border-color: transparent;\n",
              "    border-bottom-color: var(--fill-color);\n",
              "    animation:\n",
              "      spin 1s steps(1) infinite;\n",
              "  }\n",
              "\n",
              "  @keyframes spin {\n",
              "    0% {\n",
              "      border-color: transparent;\n",
              "      border-bottom-color: var(--fill-color);\n",
              "      border-left-color: var(--fill-color);\n",
              "    }\n",
              "    20% {\n",
              "      border-color: transparent;\n",
              "      border-left-color: var(--fill-color);\n",
              "      border-top-color: var(--fill-color);\n",
              "    }\n",
              "    30% {\n",
              "      border-color: transparent;\n",
              "      border-left-color: var(--fill-color);\n",
              "      border-top-color: var(--fill-color);\n",
              "      border-right-color: var(--fill-color);\n",
              "    }\n",
              "    40% {\n",
              "      border-color: transparent;\n",
              "      border-right-color: var(--fill-color);\n",
              "      border-top-color: var(--fill-color);\n",
              "    }\n",
              "    60% {\n",
              "      border-color: transparent;\n",
              "      border-right-color: var(--fill-color);\n",
              "    }\n",
              "    80% {\n",
              "      border-color: transparent;\n",
              "      border-right-color: var(--fill-color);\n",
              "      border-bottom-color: var(--fill-color);\n",
              "    }\n",
              "    90% {\n",
              "      border-color: transparent;\n",
              "      border-bottom-color: var(--fill-color);\n",
              "    }\n",
              "  }\n",
              "</style>\n",
              "\n",
              "      <script>\n",
              "        async function quickchart(key) {\n",
              "          const quickchartButtonEl =\n",
              "            document.querySelector('#' + key + ' button');\n",
              "          quickchartButtonEl.disabled = true;  // To prevent multiple clicks.\n",
              "          quickchartButtonEl.classList.add('colab-df-spinner');\n",
              "          try {\n",
              "            const charts = await google.colab.kernel.invokeFunction(\n",
              "                'suggestCharts', [key], {});\n",
              "          } catch (error) {\n",
              "            console.error('Error during call to suggestCharts:', error);\n",
              "          }\n",
              "          quickchartButtonEl.classList.remove('colab-df-spinner');\n",
              "          quickchartButtonEl.classList.add('colab-df-quickchart-complete');\n",
              "        }\n",
              "        (() => {\n",
              "          let quickchartButtonEl =\n",
              "            document.querySelector('#df-4e5ea3a3-8673-43b9-abcf-1f2dcf07bcd4 button');\n",
              "          quickchartButtonEl.style.display =\n",
              "            google.colab.kernel.accessAllowed ? 'block' : 'none';\n",
              "        })();\n",
              "      </script>\n",
              "    </div>\n",
              "\n",
              "    </div>\n",
              "  </div>\n"
            ],
            "application/vnd.google.colaboratory.intrinsic+json": {
              "type": "dataframe",
              "summary": "{\n  \"name\": \"df\",\n  \"rows\": 8,\n  \"fields\": [\n    {\n      \"column\": \"age\",\n      \"properties\": {\n        \"dtype\": \"number\",\n        \"std\": 156.26771856938913,\n        \"min\": -0.1072256316073538,\n        \"max\": 442.0,\n        \"num_unique_values\": 8,\n        \"samples\": [\n          -2.511816797794472e-19,\n          0.005383060374248237,\n          442.0\n        ],\n        \"semantic_type\": \"\",\n        \"description\": \"\"\n      }\n    },\n    {\n      \"column\": \"sex\",\n      \"properties\": {\n        \"dtype\": \"number\",\n        \"std\": 156.26984438387296,\n        \"min\": -0.044641636506989144,\n        \"max\": 442.0,\n        \"num_unique_values\": 5,\n        \"samples\": [\n          1.2307902309192911e-17,\n          0.05068011873981862,\n          0.0476190476190478\n        ],\n        \"semantic_type\": \"\",\n        \"description\": \"\"\n      }\n    },\n    {\n      \"column\": \"bmi\",\n      \"properties\": {\n        \"dtype\": \"number\",\n        \"std\": 156.26467538082832,\n        \"min\": -0.09027529589850945,\n        \"max\": 442.0,\n        \"num_unique_values\": 8,\n        \"samples\": [\n          -2.2455642172282577e-16,\n          -0.007283766209687899,\n          442.0\n        ],\n        \"semantic_type\": \"\",\n        \"description\": \"\"\n      }\n    },\n    {\n      \"column\": \"bp\",\n      \"properties\": {\n        \"dtype\": \"number\",\n        \"std\": 156.26755458292146,\n        \"min\": -0.11239880254408448,\n        \"max\": 442.0,\n        \"num_unique_values\": 8,\n        \"samples\": [\n          -4.7975700837874414e-17,\n          -0.00567042229275739,\n          442.0\n        ],\n        \"semantic_type\": \"\",\n        \"description\": \"\"\n      }\n    },\n    {\n      \"column\": \"s1\",\n      \"properties\": {\n        \"dtype\": \"number\",\n        \"std\": 156.26735866123312,\n        \"min\": -0.12678066991651324,\n        \"max\": 442.0,\n        \"num_unique_values\": 8,\n        \"samples\": [\n          -1.3814992387869595e-17,\n          -0.004320865536613489,\n          442.0\n        ],\n        \"semantic_type\": \"\",\n        \"description\": \"\"\n      }\n    },\n    {\n      \"column\": \"s2\",\n      \"properties\": {\n        \"dtype\": \"number\",\n        \"std\": 156.26423640225082,\n        \"min\": -0.11561306597939897,\n        \"max\": 442.0,\n        \"num_unique_values\": 8,\n        \"samples\": [\n          3.918434204559376e-17,\n          -0.0038190651205350003,\n          442.0\n        ],\n        \"semantic_type\": \"\",\n        \"description\": \"\"\n      }\n    },\n    {\n      \"column\": \"s3\",\n      \"properties\": {\n        \"dtype\": \"number\",\n        \"std\": 156.26485662659837,\n        \"min\": -0.10230705051741597,\n        \"max\": 442.0,\n        \"num_unique_values\": 8,\n        \"samples\": [\n          -5.7771786349272854e-18,\n          -0.006584467611155497,\n          442.0\n        ],\n        \"semantic_type\": \"\",\n        \"description\": \"\"\n      }\n    },\n    {\n      \"column\": \"s4\",\n      \"properties\": {\n        \"dtype\": \"number\",\n        \"std\": 156.26310825587572,\n        \"min\": -0.0763945037500033,\n        \"max\": 442.0,\n        \"num_unique_values\": 8,\n        \"samples\": [\n          -9.042540472060099e-18,\n          -0.002592261998183278,\n          442.0\n        ],\n        \"semantic_type\": \"\",\n        \"description\": \"\"\n      }\n    },\n    {\n      \"column\": \"s5\",\n      \"properties\": {\n        \"dtype\": \"number\",\n        \"std\": 156.26797139645322,\n        \"min\": -0.12609712083330468,\n        \"max\": 442.0,\n        \"num_unique_values\": 8,\n        \"samples\": [\n          9.293722151839546e-17,\n          -0.0019471710869220743,\n          442.0\n        ],\n        \"semantic_type\": \"\",\n        \"description\": \"\"\n      }\n    },\n    {\n      \"column\": \"s6\",\n      \"properties\": {\n        \"dtype\": \"number\",\n        \"std\": 156.2686414608801,\n        \"min\": -0.13776722569000302,\n        \"max\": 442.0,\n        \"num_unique_values\": 8,\n        \"samples\": [\n          1.1303175590075123e-17,\n          -0.0010776975004659671,\n          442.0\n        ],\n        \"semantic_type\": \"\",\n        \"description\": \"\"\n      }\n    },\n    {\n      \"column\": \"target\",\n      \"properties\": {\n        \"dtype\": \"number\",\n        \"std\": 142.71872411929326,\n        \"min\": 25.0,\n        \"max\": 442.0,\n        \"num_unique_values\": 8,\n        \"samples\": [\n          152.13348416289594,\n          140.5,\n          442.0\n        ],\n        \"semantic_type\": \"\",\n        \"description\": \"\"\n      }\n    }\n  ]\n}"
            }
          },
          "metadata": {},
          "execution_count": 5
        }
      ]
    },
    {
      "cell_type": "code",
      "source": [
        "# encontrar correlación entre columnas (= corrplot)\n",
        "\n",
        "plt.figure(figsize=(10, 8))\n",
        "sns.heatmap(df.corr(numeric_only = True), annot=True, cmap='coolwarm', center=0)\n",
        "plt.title(\"Matriz de correlación\")\n",
        "plt.show()"
      ],
      "metadata": {
        "colab": {
          "base_uri": "https://localhost:8080/",
          "height": 699
        },
        "id": "KuZ5Vvn02eu5",
        "outputId": "f0f0b9b2-b990-45ca-c8dc-c5525a3b6fe6"
      },
      "execution_count": 6,
      "outputs": [
        {
          "output_type": "display_data",
          "data": {
            "text/plain": [
              "<Figure size 1000x800 with 2 Axes>"
            ],
            "image/png": "[encoded data removed]"
          },
          "metadata": {}
        }
      ]
    },
    {
      "cell_type": "code",
      "source": [
        "# Vemos si hay variables normales:\n",
        "\n",
        "import scipy.stats as stats\n",
        "\n",
        "normalidad = {} # diccionario para almacenar las variables normales\n",
        "\n",
        "for col in df:\n",
        "    # Prueba de Shapiro-Wilk\n",
        "  shapiro_stat, shapiro_p = stats.shapiro(df[col].dropna())\n",
        "    #shapiro_test = stats.shapiro(group[col]) # Otra forma\n",
        "\n",
        "  print(f'{col}: p={shapiro_p:.4f} => {\"Normal\" if (shapiro_p > 0.05) else \"No normal\"}')\n",
        "\n",
        "    # Guardar resultados\n",
        "  normalidad[col] = {\n",
        "    \"Shapiro-Wilk p-valor\": round(shapiro_p, 4),\n",
        "\n",
        "    \"Normalidad (p > 0.05)\": shapiro_p > 0.05\n",
        "  }"
      ],
      "metadata": {
        "colab": {
          "base_uri": "https://localhost:8080/"
        },
        "id": "SJws-e668IqW",
        "outputId": "fc70f8d4-9cdf-4fde-bf5d-b0c7c9d53f6d"
      },
      "execution_count": 7,
      "outputs": [
        {
          "output_type": "stream",
          "name": "stdout",
          "text": [
            "age: p=0.0000 => No normal\n",
            "sex: p=0.0000 => No normal\n",
            "bmi: p=0.0000 => No normal\n",
            "bp: p=0.0001 => No normal\n",
            "s1: p=0.0051 => No normal\n",
            "s2: p=0.0013 => No normal\n",
            "s3: p=0.0000 => No normal\n",
            "s4: p=0.0000 => No normal\n",
            "s5: p=0.0096 => No normal\n",
            "s6: p=0.0410 => No normal\n",
            "target: p=0.0000 => No normal\n"
          ]
        }
      ]
    },
    {
      "cell_type": "markdown",
      "source": [
        "# Creacion de los conjuntos (train, val, test)"
      ],
      "metadata": {
        "id": "lhJDZY0WJGfP"
      }
    },
    {
      "cell_type": "markdown",
      "source": [
        "*   70% Entrenamiento\n",
        "*   15% Validación\n",
        "*   15% Prueba\n",
        "\n"
      ],
      "metadata": {
        "id": "jbqQA1_FJQV1"
      }
    },
    {
      "cell_type": "code",
      "source": [
        "import random\n",
        "\n",
        "SEED = 69\n",
        "random.seed(SEED)\n",
        "np.random.seed(SEED)"
      ],
      "metadata": {
        "id": "AFABqYKr5Itz"
      },
      "execution_count": 8,
      "outputs": []
    },
    {
      "cell_type": "code",
      "source": [
        "from sklearn.model_selection import train_test_split\n",
        "\n",
        "X = df.drop('target', axis=1)\n",
        "y = df['target']\n",
        "\n",
        "# 70% train; 15% val; 15% test\n",
        "X_train, X_temp, y_train, y_temp = train_test_split(X, y, test_size=0.30, random_state=SEED) # 30% pruebas (temp=división_temporal) y 70% entrenamiento (train)\n",
        "X_val, X_test, y_val, y_test = train_test_split(X_temp, y_temp, test_size=0.50, random_state=SEED) # Del 30%, la mitad (15%) a val y otro 15 a test"
      ],
      "metadata": {
        "id": "3k6iDO1r2Ony"
      },
      "execution_count": 9,
      "outputs": []
    },
    {
      "cell_type": "markdown",
      "source": [
        "# Estandarización"
      ],
      "metadata": {
        "id": "HonEcBE6Jyw9"
      }
    },
    {
      "cell_type": "markdown",
      "source": [
        "$$x_{norm}=\\frac{x-\\mu}{\\sigma}$$"
      ],
      "metadata": {
        "id": "owuQU5WCJ119"
      }
    },
    {
      "cell_type": "markdown",
      "source": [
        "El método de estandarización que usaré (y que cumple la fórmula presentada en el enunciado) será StandardScaler."
      ],
      "metadata": {
        "id": "2gKcw1xiN9c1"
      }
    },
    {
      "cell_type": "code",
      "source": [
        "from sklearn.preprocessing import StandardScaler\n",
        "\n",
        "scaler = StandardScaler()\n",
        "\n",
        "X_train_s = scaler.fit_transform(X_train)\n",
        "\n",
        "X_val_s = scaler.transform(X_val)\n",
        "\n",
        "X_test_s = scaler.transform(X_test)"
      ],
      "metadata": {
        "id": "l4_U-IOWJ1Jl"
      },
      "execution_count": 10,
      "outputs": []
    },
    {
      "cell_type": "markdown",
      "source": [
        "# Ajuste de las dimensiones de entrada"
      ],
      "metadata": {
        "id": "Bnne9C3GKmRG"
      }
    },
    {
      "cell_type": "code",
      "source": [
        "input_shape = X_train_s.shape[1]"
      ],
      "metadata": {
        "id": "v22jFm-sKuQt"
      },
      "execution_count": 11,
      "outputs": []
    },
    {
      "cell_type": "markdown",
      "source": [
        "# Cosntrucción del modelo"
      ],
      "metadata": {
        "id": "4HXiJWG7Kuou"
      }
    },
    {
      "cell_type": "markdown",
      "source": [
        "## Hiperparámetros"
      ],
      "metadata": {
        "id": "IN0TRvNWLSo9"
      }
    },
    {
      "cell_type": "code",
      "source": [
        "# Variables del modelo que se pueden configurar manualmente:\n",
        "\n",
        "learning_rate = 0.01  # Controlador de la actualización de pesos (0 - 1) Recomendable 0.1 ó 0.01\n",
        "epochs = 100          # Número de vueltas completas para entrenamiento dentro de la red neuronal\n",
        "batch_size = 32       # (Default = 32 para datasets pequeños).Procesará 32 datos a la vez\n",
        "hidden_units_1 = 64   # Empezamos con 64 en la primera capa\n",
        "hidden_units_2 = 32   # Terminamos con 34, la mitad para la segunda capa, para evitar un incremento innecesario de complejidad de lso nodos\n",
        "dropout_rate = 0.3    # Apagar neuronas al azar durante el entrenamiento, un 30% en cada iteración, para forzar nuevos caminos"
      ],
      "metadata": {
        "id": "xHYahWA2LW6H"
      },
      "execution_count": 12,
      "outputs": []
    },
    {
      "cell_type": "markdown",
      "source": [
        "## Creación del modelo"
      ],
      "metadata": {
        "id": "y-nY-nlYMB1E"
      }
    },
    {
      "cell_type": "code",
      "source": [
        "from tensorflow.keras.models import Sequential\n",
        "from tensorflow.keras.layers import Dense, Dropout\n",
        "\n",
        "model_1 = Sequential([\n",
        "    Dense(hidden_units_1, activation='relu', input_shape=(input_shape,)),\n",
        "    Dropout(dropout_rate),\n",
        "    Dense(hidden_units_2, activation='relu'),\n",
        "    Dense(1)\n",
        "])"
      ],
      "metadata": {
        "id": "xbohUOWyMDEs",
        "colab": {
          "base_uri": "https://localhost:8080/"
        },
        "outputId": "85666a4e-7d6b-47ed-fce9-79b1e287b3bd"
      },
      "execution_count": 13,
      "outputs": [
        {
          "output_type": "stream",
          "name": "stderr",
          "text": [
            "/usr/local/lib/python3.11/dist-packages/keras/src/layers/core/dense.py:87: UserWarning: Do not pass an `input_shape`/`input_dim` argument to a layer. When using Sequential models, prefer using an `Input(shape)` object as the first layer in the model instead.\n",
            "  super().__init__(activity_regularizer=activity_regularizer, **kwargs)\n"
          ]
        }
      ]
    },
    {
      "cell_type": "markdown",
      "source": [
        "## Compilación del modelo"
      ],
      "metadata": {
        "id": "zVKxYtLGNvPU"
      }
    },
    {
      "cell_type": "code",
      "source": [
        "from tensorflow.keras.optimizers import Adam\n",
        "\n",
        "\n",
        "model_1.compile(\n",
        "    optimizer=Adam(learning_rate=learning_rate),\n",
        "    loss='mean_squared_error',  # Función de pérdida para regresión , también podemos poner 'mse'\n",
        "    metrics=['mae']             # Métrica común para regresión, también podemos poner ['mean_absolute_error']\n",
        ")\n",
        "\n",
        "model_1.save('modelo_compilado.keras') # Lo guardamos para no repetir la compilación más adelante"
      ],
      "metadata": {
        "id": "CgIkcA97M3C1"
      },
      "execution_count": 14,
      "outputs": []
    },
    {
      "cell_type": "markdown",
      "source": [
        "## Entrenamiento del modelo"
      ],
      "metadata": {
        "id": "561vs4QsNykk"
      }
    },
    {
      "cell_type": "code",
      "source": [
        "history = model_1.fit(\n",
        "    X_train_s,\n",
        "    y_train,\n",
        "    epochs=epochs,\n",
        "    batch_size=batch_size,\n",
        "    validation_data=(X_val_s, y_val)\n",
        ")"
      ],
      "metadata": {
        "id": "I9WlWwQJNZo0",
        "colab": {
          "base_uri": "https://localhost:8080/"
        },
        "outputId": "e5797fcb-cb8a-48c5-8796-0cbec3ce3add"
      },
      "execution_count": 15,
      "outputs": [
        {
          "output_type": "stream",
          "name": "stdout",
          "text": [
            "Epoch 1/100\n",
            "\u001b[1m10/10\u001b[0m \u001b[32m━━━━━━━━━━━━━━━━━━━━\u001b[0m\u001b[37m\u001b[0m \u001b[1m4s\u001b[0m 87ms/step - loss: 29766.0918 - mae: 153.1461 - val_loss: 20508.1484 - val_mae: 126.6061\n",
            "Epoch 2/100\n",
            "\u001b[1m10/10\u001b[0m \u001b[32m━━━━━━━━━━━━━━━━━━━━\u001b[0m\u001b[37m\u001b[0m \u001b[1m1s\u001b[0m 32ms/step - loss: 26179.7227 - mae: 141.8496 - val_loss: 12655.7676 - val_mae: 93.6397\n",
            "Epoch 3/100\n",
            "\u001b[1m10/10\u001b[0m \u001b[32m━━━━━━━━━━━━━━━━━━━━\u001b[0m\u001b[37m\u001b[0m \u001b[1m0s\u001b[0m 26ms/step - loss: 14581.2041 - mae: 98.4707 - val_loss: 4257.7217 - val_mae: 52.8689\n",
            "Epoch 4/100\n",
            "\u001b[1m10/10\u001b[0m \u001b[32m━━━━━━━━━━━━━━━━━━━━\u001b[0m\u001b[37m\u001b[0m \u001b[1m0s\u001b[0m 34ms/step - loss: 6073.9658 - mae: 60.1483 - val_loss: 5322.2271 - val_mae: 59.0901\n",
            "Epoch 5/100\n",
            "\u001b[1m10/10\u001b[0m \u001b[32m━━━━━━━━━━━━━━━━━━━━\u001b[0m\u001b[37m\u001b[0m \u001b[1m1s\u001b[0m 49ms/step - loss: 4343.6196 - mae: 50.9759 - val_loss: 3185.6450 - val_mae: 47.2770\n",
            "Epoch 6/100\n",
            "\u001b[1m10/10\u001b[0m \u001b[32m━━━━━━━━━━━━━━━━━━━━\u001b[0m\u001b[37m\u001b[0m \u001b[1m1s\u001b[0m 72ms/step - loss: 4513.5493 - mae: 51.5660 - val_loss: 2776.9153 - val_mae: 43.9790\n",
            "Epoch 7/100\n",
            "\u001b[1m10/10\u001b[0m \u001b[32m━━━━━━━━━━━━━━━━━━━━\u001b[0m\u001b[37m\u001b[0m \u001b[1m1s\u001b[0m 58ms/step - loss: 4226.0439 - mae: 51.4232 - val_loss: 2804.1511 - val_mae: 42.9341\n",
            "Epoch 8/100\n",
            "\u001b[1m10/10\u001b[0m \u001b[32m━━━━━━━━━━━━━━━━━━━━\u001b[0m\u001b[37m\u001b[0m \u001b[1m0s\u001b[0m 33ms/step - loss: 4522.1104 - mae: 53.1640 - val_loss: 2762.1528 - val_mae: 43.4919\n",
            "Epoch 9/100\n",
            "\u001b[1m10/10\u001b[0m \u001b[32m━━━━━━━━━━━━━━━━━━━━\u001b[0m\u001b[37m\u001b[0m \u001b[1m0s\u001b[0m 40ms/step - loss: 3695.3906 - mae: 48.2360 - val_loss: 2561.0398 - val_mae: 41.9803\n",
            "Epoch 10/100\n",
            "\u001b[1m10/10\u001b[0m \u001b[32m━━━━━━━━━━━━━━━━━━━━\u001b[0m\u001b[37m\u001b[0m \u001b[1m0s\u001b[0m 30ms/step - loss: 3462.1826 - mae: 46.5526 - val_loss: 2677.4092 - val_mae: 42.2676\n",
            "Epoch 11/100\n",
            "\u001b[1m10/10\u001b[0m \u001b[32m━━━━━━━━━━━━━━━━━━━━\u001b[0m\u001b[37m\u001b[0m \u001b[1m1s\u001b[0m 47ms/step - loss: 3401.1448 - mae: 46.1589 - val_loss: 2528.1060 - val_mae: 40.6805\n",
            "Epoch 12/100\n",
            "\u001b[1m10/10\u001b[0m \u001b[32m━━━━━━━━━━━━━━━━━━━━\u001b[0m\u001b[37m\u001b[0m \u001b[1m1s\u001b[0m 37ms/step - loss: 3339.8887 - mae: 47.1017 - val_loss: 2628.2913 - val_mae: 41.3321\n",
            "Epoch 13/100\n",
            "\u001b[1m10/10\u001b[0m \u001b[32m━━━━━━━━━━━━━━━━━━━━\u001b[0m\u001b[37m\u001b[0m \u001b[1m0s\u001b[0m 22ms/step - loss: 3770.6331 - mae: 47.4475 - val_loss: 2398.3467 - val_mae: 41.0555\n",
            "Epoch 14/100\n",
            "\u001b[1m10/10\u001b[0m \u001b[32m━━━━━━━━━━━━━━━━━━━━\u001b[0m\u001b[37m\u001b[0m \u001b[1m0s\u001b[0m 25ms/step - loss: 3111.0344 - mae: 44.6375 - val_loss: 2589.2146 - val_mae: 41.1764\n",
            "Epoch 15/100\n",
            "\u001b[1m10/10\u001b[0m \u001b[32m━━━━━━━━━━━━━━━━━━━━\u001b[0m\u001b[37m\u001b[0m \u001b[1m1s\u001b[0m 21ms/step - loss: 3135.8379 - mae: 44.2663 - val_loss: 2514.4355 - val_mae: 40.6784\n",
            "Epoch 16/100\n",
            "\u001b[1m10/10\u001b[0m \u001b[32m━━━━━━━━━━━━━━━━━━━━\u001b[0m\u001b[37m\u001b[0m \u001b[1m0s\u001b[0m 24ms/step - loss: 3699.8892 - mae: 46.9831 - val_loss: 2502.6191 - val_mae: 40.1022\n",
            "Epoch 17/100\n",
            "\u001b[1m10/10\u001b[0m \u001b[32m━━━━━━━━━━━━━━━━━━━━\u001b[0m\u001b[37m\u001b[0m \u001b[1m0s\u001b[0m 17ms/step - loss: 2937.5374 - mae: 42.4253 - val_loss: 2444.3479 - val_mae: 39.3695\n",
            "Epoch 18/100\n",
            "\u001b[1m10/10\u001b[0m \u001b[32m━━━━━━━━━━━━━━━━━━━━\u001b[0m\u001b[37m\u001b[0m \u001b[1m0s\u001b[0m 11ms/step - loss: 3348.2014 - mae: 45.1098 - val_loss: 2346.9285 - val_mae: 39.8441\n",
            "Epoch 19/100\n",
            "\u001b[1m10/10\u001b[0m \u001b[32m━━━━━━━━━━━━━━━━━━━━\u001b[0m\u001b[37m\u001b[0m \u001b[1m0s\u001b[0m 10ms/step - loss: 3328.9065 - mae: 46.7197 - val_loss: 2497.1465 - val_mae: 40.4597\n",
            "Epoch 20/100\n",
            "\u001b[1m10/10\u001b[0m \u001b[32m━━━━━━━━━━━━━━━━━━━━\u001b[0m\u001b[37m\u001b[0m \u001b[1m0s\u001b[0m 13ms/step - loss: 3205.7588 - mae: 44.8914 - val_loss: 2410.2188 - val_mae: 39.1974\n",
            "Epoch 21/100\n",
            "\u001b[1m10/10\u001b[0m \u001b[32m━━━━━━━━━━━━━━━━━━━━\u001b[0m\u001b[37m\u001b[0m \u001b[1m0s\u001b[0m 12ms/step - loss: 3165.2473 - mae: 43.8410 - val_loss: 2485.3792 - val_mae: 39.8746\n",
            "Epoch 22/100\n",
            "\u001b[1m10/10\u001b[0m \u001b[32m━━━━━━━━━━━━━━━━━━━━\u001b[0m\u001b[37m\u001b[0m \u001b[1m0s\u001b[0m 10ms/step - loss: 3462.0540 - mae: 47.9740 - val_loss: 2488.5981 - val_mae: 40.3854\n",
            "Epoch 23/100\n",
            "\u001b[1m10/10\u001b[0m \u001b[32m━━━━━━━━━━━━━━━━━━━━\u001b[0m\u001b[37m\u001b[0m \u001b[1m0s\u001b[0m 11ms/step - loss: 3125.2126 - mae: 45.0297 - val_loss: 2460.4299 - val_mae: 39.7930\n",
            "Epoch 24/100\n",
            "\u001b[1m10/10\u001b[0m \u001b[32m━━━━━━━━━━━━━━━━━━━━\u001b[0m\u001b[37m\u001b[0m \u001b[1m0s\u001b[0m 11ms/step - loss: 2916.0957 - mae: 42.8716 - val_loss: 2503.2112 - val_mae: 39.7491\n",
            "Epoch 25/100\n",
            "\u001b[1m10/10\u001b[0m \u001b[32m━━━━━━━━━━━━━━━━━━━━\u001b[0m\u001b[37m\u001b[0m \u001b[1m0s\u001b[0m 11ms/step - loss: 2911.0430 - mae: 42.3206 - val_loss: 2478.5859 - val_mae: 39.7596\n",
            "Epoch 26/100\n",
            "\u001b[1m10/10\u001b[0m \u001b[32m━━━━━━━━━━━━━━━━━━━━\u001b[0m\u001b[37m\u001b[0m \u001b[1m0s\u001b[0m 11ms/step - loss: 3372.4333 - mae: 45.7598 - val_loss: 2376.6558 - val_mae: 39.3586\n",
            "Epoch 27/100\n",
            "\u001b[1m10/10\u001b[0m \u001b[32m━━━━━━━━━━━━━━━━━━━━\u001b[0m\u001b[37m\u001b[0m \u001b[1m0s\u001b[0m 10ms/step - loss: 3192.4133 - mae: 45.4612 - val_loss: 2500.3608 - val_mae: 39.9888\n",
            "Epoch 28/100\n",
            "\u001b[1m10/10\u001b[0m \u001b[32m━━━━━━━━━━━━━━━━━━━━\u001b[0m\u001b[37m\u001b[0m \u001b[1m0s\u001b[0m 11ms/step - loss: 3406.9067 - mae: 45.4103 - val_loss: 2371.6125 - val_mae: 39.4637\n",
            "Epoch 29/100\n",
            "\u001b[1m10/10\u001b[0m \u001b[32m━━━━━━━━━━━━━━━━━━━━\u001b[0m\u001b[37m\u001b[0m \u001b[1m0s\u001b[0m 10ms/step - loss: 3363.8469 - mae: 45.2281 - val_loss: 2403.5344 - val_mae: 39.7928\n",
            "Epoch 30/100\n",
            "\u001b[1m10/10\u001b[0m \u001b[32m━━━━━━━━━━━━━━━━━━━━\u001b[0m\u001b[37m\u001b[0m \u001b[1m0s\u001b[0m 11ms/step - loss: 3072.3931 - mae: 43.4872 - val_loss: 2452.3357 - val_mae: 39.5785\n",
            "Epoch 31/100\n",
            "\u001b[1m10/10\u001b[0m \u001b[32m━━━━━━━━━━━━━━━━━━━━\u001b[0m\u001b[37m\u001b[0m \u001b[1m0s\u001b[0m 12ms/step - loss: 3190.4370 - mae: 44.5134 - val_loss: 2442.7871 - val_mae: 39.6232\n",
            "Epoch 32/100\n",
            "\u001b[1m10/10\u001b[0m \u001b[32m━━━━━━━━━━━━━━━━━━━━\u001b[0m\u001b[37m\u001b[0m \u001b[1m0s\u001b[0m 11ms/step - loss: 3414.1709 - mae: 45.8272 - val_loss: 2623.4805 - val_mae: 40.9552\n",
            "Epoch 33/100\n",
            "\u001b[1m10/10\u001b[0m \u001b[32m━━━━━━━━━━━━━━━━━━━━\u001b[0m\u001b[37m\u001b[0m \u001b[1m0s\u001b[0m 13ms/step - loss: 3813.1836 - mae: 50.4377 - val_loss: 2443.2534 - val_mae: 40.1144\n",
            "Epoch 34/100\n",
            "\u001b[1m10/10\u001b[0m \u001b[32m━━━━━━━━━━━━━━━━━━━━\u001b[0m\u001b[37m\u001b[0m \u001b[1m0s\u001b[0m 11ms/step - loss: 2901.9048 - mae: 42.2651 - val_loss: 2538.3518 - val_mae: 40.1581\n",
            "Epoch 35/100\n",
            "\u001b[1m10/10\u001b[0m \u001b[32m━━━━━━━━━━━━━━━━━━━━\u001b[0m\u001b[37m\u001b[0m \u001b[1m0s\u001b[0m 12ms/step - loss: 3289.0371 - mae: 46.0289 - val_loss: 2279.1748 - val_mae: 38.7223\n",
            "Epoch 36/100\n",
            "\u001b[1m10/10\u001b[0m \u001b[32m━━━━━━━━━━━━━━━━━━━━\u001b[0m\u001b[37m\u001b[0m \u001b[1m0s\u001b[0m 12ms/step - loss: 3287.3306 - mae: 45.1261 - val_loss: 2556.4680 - val_mae: 40.5237\n",
            "Epoch 37/100\n",
            "\u001b[1m10/10\u001b[0m \u001b[32m━━━━━━━━━━━━━━━━━━━━\u001b[0m\u001b[37m\u001b[0m \u001b[1m0s\u001b[0m 14ms/step - loss: 2960.0337 - mae: 42.9441 - val_loss: 2482.2454 - val_mae: 39.8102\n",
            "Epoch 38/100\n",
            "\u001b[1m10/10\u001b[0m \u001b[32m━━━━━━━━━━━━━━━━━━━━\u001b[0m\u001b[37m\u001b[0m \u001b[1m0s\u001b[0m 11ms/step - loss: 2985.5593 - mae: 43.9059 - val_loss: 2310.9402 - val_mae: 39.0716\n",
            "Epoch 39/100\n",
            "\u001b[1m10/10\u001b[0m \u001b[32m━━━━━━━━━━━━━━━━━━━━\u001b[0m\u001b[37m\u001b[0m \u001b[1m0s\u001b[0m 12ms/step - loss: 3197.0442 - mae: 44.9162 - val_loss: 2413.4421 - val_mae: 39.9096\n",
            "Epoch 40/100\n",
            "\u001b[1m10/10\u001b[0m \u001b[32m━━━━━━━━━━━━━━━━━━━━\u001b[0m\u001b[37m\u001b[0m \u001b[1m0s\u001b[0m 11ms/step - loss: 3066.5662 - mae: 44.7574 - val_loss: 2528.8982 - val_mae: 40.9858\n",
            "Epoch 41/100\n",
            "\u001b[1m10/10\u001b[0m \u001b[32m━━━━━━━━━━━━━━━━━━━━\u001b[0m\u001b[37m\u001b[0m \u001b[1m0s\u001b[0m 11ms/step - loss: 2749.7012 - mae: 41.8987 - val_loss: 2358.0339 - val_mae: 39.5473\n",
            "Epoch 42/100\n",
            "\u001b[1m10/10\u001b[0m \u001b[32m━━━━━━━━━━━━━━━━━━━━\u001b[0m\u001b[37m\u001b[0m \u001b[1m0s\u001b[0m 10ms/step - loss: 3039.1628 - mae: 44.5720 - val_loss: 2518.2314 - val_mae: 40.3127\n",
            "Epoch 43/100\n",
            "\u001b[1m10/10\u001b[0m \u001b[32m━━━━━━━━━━━━━━━━━━━━\u001b[0m\u001b[37m\u001b[0m \u001b[1m0s\u001b[0m 14ms/step - loss: 2901.9358 - mae: 42.6883 - val_loss: 2350.0598 - val_mae: 39.6967\n",
            "Epoch 44/100\n",
            "\u001b[1m10/10\u001b[0m \u001b[32m━━━━━━━━━━━━━━━━━━━━\u001b[0m\u001b[37m\u001b[0m \u001b[1m0s\u001b[0m 10ms/step - loss: 2973.3477 - mae: 42.5221 - val_loss: 2544.9854 - val_mae: 40.4838\n",
            "Epoch 45/100\n",
            "\u001b[1m10/10\u001b[0m \u001b[32m━━━━━━━━━━━━━━━━━━━━\u001b[0m\u001b[37m\u001b[0m \u001b[1m0s\u001b[0m 10ms/step - loss: 3087.4966 - mae: 43.5260 - val_loss: 2486.2495 - val_mae: 40.0928\n",
            "Epoch 46/100\n",
            "\u001b[1m10/10\u001b[0m \u001b[32m━━━━━━━━━━━━━━━━━━━━\u001b[0m\u001b[37m\u001b[0m \u001b[1m0s\u001b[0m 11ms/step - loss: 2541.0078 - mae: 39.8958 - val_loss: 2407.5444 - val_mae: 39.6910\n",
            "Epoch 47/100\n",
            "\u001b[1m10/10\u001b[0m \u001b[32m━━━━━━━━━━━━━━━━━━━━\u001b[0m\u001b[37m\u001b[0m \u001b[1m0s\u001b[0m 11ms/step - loss: 2891.2441 - mae: 43.4900 - val_loss: 2542.5039 - val_mae: 40.3299\n",
            "Epoch 48/100\n",
            "\u001b[1m10/10\u001b[0m \u001b[32m━━━━━━━━━━━━━━━━━━━━\u001b[0m\u001b[37m\u001b[0m \u001b[1m0s\u001b[0m 12ms/step - loss: 3040.1499 - mae: 44.7075 - val_loss: 2410.4702 - val_mae: 39.3125\n",
            "Epoch 49/100\n",
            "\u001b[1m10/10\u001b[0m \u001b[32m━━━━━━━━━━━━━━━━━━━━\u001b[0m\u001b[37m\u001b[0m \u001b[1m0s\u001b[0m 10ms/step - loss: 2856.6558 - mae: 42.6931 - val_loss: 2535.8020 - val_mae: 41.2104\n",
            "Epoch 50/100\n",
            "\u001b[1m10/10\u001b[0m \u001b[32m━━━━━━━━━━━━━━━━━━━━\u001b[0m\u001b[37m\u001b[0m \u001b[1m0s\u001b[0m 11ms/step - loss: 2878.8889 - mae: 42.9761 - val_loss: 2421.9380 - val_mae: 39.8438\n",
            "Epoch 51/100\n",
            "\u001b[1m10/10\u001b[0m \u001b[32m━━━━━━━━━━━━━━━━━━━━\u001b[0m\u001b[37m\u001b[0m \u001b[1m0s\u001b[0m 10ms/step - loss: 2833.6387 - mae: 42.2778 - val_loss: 2357.8872 - val_mae: 39.1089\n",
            "Epoch 52/100\n",
            "\u001b[1m10/10\u001b[0m \u001b[32m━━━━━━━━━━━━━━━━━━━━\u001b[0m\u001b[37m\u001b[0m \u001b[1m0s\u001b[0m 10ms/step - loss: 2833.8184 - mae: 42.9714 - val_loss: 2581.5054 - val_mae: 40.7564\n",
            "Epoch 53/100\n",
            "\u001b[1m10/10\u001b[0m \u001b[32m━━━━━━━━━━━━━━━━━━━━\u001b[0m\u001b[37m\u001b[0m \u001b[1m0s\u001b[0m 10ms/step - loss: 3131.3389 - mae: 44.3701 - val_loss: 2604.8108 - val_mae: 41.1517\n",
            "Epoch 54/100\n",
            "\u001b[1m10/10\u001b[0m \u001b[32m━━━━━━━━━━━━━━━━━━━━\u001b[0m\u001b[37m\u001b[0m \u001b[1m0s\u001b[0m 15ms/step - loss: 3056.7839 - mae: 44.4821 - val_loss: 2414.8799 - val_mae: 39.9989\n",
            "Epoch 55/100\n",
            "\u001b[1m10/10\u001b[0m \u001b[32m━━━━━━━━━━━━━━━━━━━━\u001b[0m\u001b[37m\u001b[0m \u001b[1m0s\u001b[0m 12ms/step - loss: 2915.9722 - mae: 42.9832 - val_loss: 2591.6343 - val_mae: 41.0085\n",
            "Epoch 56/100\n",
            "\u001b[1m10/10\u001b[0m \u001b[32m━━━━━━━━━━━━━━━━━━━━\u001b[0m\u001b[37m\u001b[0m \u001b[1m0s\u001b[0m 15ms/step - loss: 3038.7019 - mae: 44.3276 - val_loss: 2381.6189 - val_mae: 39.7109\n",
            "Epoch 57/100\n",
            "\u001b[1m10/10\u001b[0m \u001b[32m━━━━━━━━━━━━━━━━━━━━\u001b[0m\u001b[37m\u001b[0m \u001b[1m0s\u001b[0m 17ms/step - loss: 3249.9670 - mae: 44.5321 - val_loss: 2616.3208 - val_mae: 41.2702\n",
            "Epoch 58/100\n",
            "\u001b[1m10/10\u001b[0m \u001b[32m━━━━━━━━━━━━━━━━━━━━\u001b[0m\u001b[37m\u001b[0m \u001b[1m0s\u001b[0m 18ms/step - loss: 3195.9910 - mae: 45.2472 - val_loss: 2446.3533 - val_mae: 40.3624\n",
            "Epoch 59/100\n",
            "\u001b[1m10/10\u001b[0m \u001b[32m━━━━━━━━━━━━━━━━━━━━\u001b[0m\u001b[37m\u001b[0m \u001b[1m0s\u001b[0m 17ms/step - loss: 3078.7444 - mae: 43.8158 - val_loss: 2565.9714 - val_mae: 40.8617\n",
            "Epoch 60/100\n",
            "\u001b[1m10/10\u001b[0m \u001b[32m━━━━━━━━━━━━━━━━━━━━\u001b[0m\u001b[37m\u001b[0m \u001b[1m0s\u001b[0m 18ms/step - loss: 3235.7109 - mae: 44.5064 - val_loss: 2645.4163 - val_mae: 41.2646\n",
            "Epoch 61/100\n",
            "\u001b[1m10/10\u001b[0m \u001b[32m━━━━━━━━━━━━━━━━━━━━\u001b[0m\u001b[37m\u001b[0m \u001b[1m0s\u001b[0m 17ms/step - loss: 2955.1025 - mae: 42.7448 - val_loss: 2503.5229 - val_mae: 40.5798\n",
            "Epoch 62/100\n",
            "\u001b[1m10/10\u001b[0m \u001b[32m━━━━━━━━━━━━━━━━━━━━\u001b[0m\u001b[37m\u001b[0m \u001b[1m0s\u001b[0m 18ms/step - loss: 2826.8818 - mae: 42.1788 - val_loss: 2527.3892 - val_mae: 40.7008\n",
            "Epoch 63/100\n",
            "\u001b[1m10/10\u001b[0m \u001b[32m━━━━━━━━━━━━━━━━━━━━\u001b[0m\u001b[37m\u001b[0m \u001b[1m0s\u001b[0m 19ms/step - loss: 2904.6206 - mae: 41.9580 - val_loss: 2623.4087 - val_mae: 41.1123\n",
            "Epoch 64/100\n",
            "\u001b[1m10/10\u001b[0m \u001b[32m━━━━━━━━━━━━━━━━━━━━\u001b[0m\u001b[37m\u001b[0m \u001b[1m0s\u001b[0m 20ms/step - loss: 3099.2441 - mae: 42.8872 - val_loss: 2422.5410 - val_mae: 39.7736\n",
            "Epoch 65/100\n",
            "\u001b[1m10/10\u001b[0m \u001b[32m━━━━━━━━━━━━━━━━━━━━\u001b[0m\u001b[37m\u001b[0m \u001b[1m0s\u001b[0m 15ms/step - loss: 3010.5469 - mae: 43.5557 - val_loss: 2748.0793 - val_mae: 41.7035\n",
            "Epoch 66/100\n",
            "\u001b[1m10/10\u001b[0m \u001b[32m━━━━━━━━━━━━━━━━━━━━\u001b[0m\u001b[37m\u001b[0m \u001b[1m0s\u001b[0m 12ms/step - loss: 2810.6140 - mae: 42.0271 - val_loss: 2445.2856 - val_mae: 40.6239\n",
            "Epoch 67/100\n",
            "\u001b[1m10/10\u001b[0m \u001b[32m━━━━━━━━━━━━━━━━━━━━\u001b[0m\u001b[37m\u001b[0m \u001b[1m0s\u001b[0m 12ms/step - loss: 2863.2466 - mae: 40.7912 - val_loss: 2708.0425 - val_mae: 41.7596\n",
            "Epoch 68/100\n",
            "\u001b[1m10/10\u001b[0m \u001b[32m━━━━━━━━━━━━━━━━━━━━\u001b[0m\u001b[37m\u001b[0m \u001b[1m0s\u001b[0m 11ms/step - loss: 2973.6958 - mae: 43.6743 - val_loss: 2391.7886 - val_mae: 40.4423\n",
            "Epoch 69/100\n",
            "\u001b[1m10/10\u001b[0m \u001b[32m━━━━━━━━━━━━━━━━━━━━\u001b[0m\u001b[37m\u001b[0m \u001b[1m0s\u001b[0m 11ms/step - loss: 3383.9268 - mae: 47.1570 - val_loss: 2806.2964 - val_mae: 43.2332\n",
            "Epoch 70/100\n",
            "\u001b[1m10/10\u001b[0m \u001b[32m━━━━━━━━━━━━━━━━━━━━\u001b[0m\u001b[37m\u001b[0m \u001b[1m0s\u001b[0m 11ms/step - loss: 3232.1895 - mae: 45.3417 - val_loss: 2464.6462 - val_mae: 41.1565\n",
            "Epoch 71/100\n",
            "\u001b[1m10/10\u001b[0m \u001b[32m━━━━━━━━━━━━━━━━━━━━\u001b[0m\u001b[37m\u001b[0m \u001b[1m0s\u001b[0m 11ms/step - loss: 2843.2749 - mae: 41.8579 - val_loss: 2648.0500 - val_mae: 41.9855\n",
            "Epoch 72/100\n",
            "\u001b[1m10/10\u001b[0m \u001b[32m━━━━━━━━━━━━━━━━━━━━\u001b[0m\u001b[37m\u001b[0m \u001b[1m0s\u001b[0m 11ms/step - loss: 2926.4529 - mae: 42.5591 - val_loss: 2641.5806 - val_mae: 42.1806\n",
            "Epoch 73/100\n",
            "\u001b[1m10/10\u001b[0m \u001b[32m━━━━━━━━━━━━━━━━━━━━\u001b[0m\u001b[37m\u001b[0m \u001b[1m0s\u001b[0m 10ms/step - loss: 3107.4241 - mae: 45.4820 - val_loss: 2643.0681 - val_mae: 42.2042\n",
            "Epoch 74/100\n",
            "\u001b[1m10/10\u001b[0m \u001b[32m━━━━━━━━━━━━━━━━━━━━\u001b[0m\u001b[37m\u001b[0m \u001b[1m0s\u001b[0m 10ms/step - loss: 3160.6426 - mae: 45.1377 - val_loss: 2720.5071 - val_mae: 42.3743\n",
            "Epoch 75/100\n",
            "\u001b[1m10/10\u001b[0m \u001b[32m━━━━━━━━━━━━━━━━━━━━\u001b[0m\u001b[37m\u001b[0m \u001b[1m0s\u001b[0m 10ms/step - loss: 3184.8018 - mae: 45.2716 - val_loss: 2465.0530 - val_mae: 41.3658\n",
            "Epoch 76/100\n",
            "\u001b[1m10/10\u001b[0m \u001b[32m━━━━━━━━━━━━━━━━━━━━\u001b[0m\u001b[37m\u001b[0m \u001b[1m0s\u001b[0m 11ms/step - loss: 2890.7925 - mae: 42.4859 - val_loss: 2664.4294 - val_mae: 41.9064\n",
            "Epoch 77/100\n",
            "\u001b[1m10/10\u001b[0m \u001b[32m━━━━━━━━━━━━━━━━━━━━\u001b[0m\u001b[37m\u001b[0m \u001b[1m0s\u001b[0m 10ms/step - loss: 3193.8274 - mae: 46.0442 - val_loss: 2478.3008 - val_mae: 40.7227\n",
            "Epoch 78/100\n",
            "\u001b[1m10/10\u001b[0m \u001b[32m━━━━━━━━━━━━━━━━━━━━\u001b[0m\u001b[37m\u001b[0m \u001b[1m0s\u001b[0m 11ms/step - loss: 2707.8794 - mae: 42.3459 - val_loss: 2778.1055 - val_mae: 42.2044\n",
            "Epoch 79/100\n",
            "\u001b[1m10/10\u001b[0m \u001b[32m━━━━━━━━━━━━━━━━━━━━\u001b[0m\u001b[37m\u001b[0m \u001b[1m0s\u001b[0m 11ms/step - loss: 3270.9106 - mae: 45.9243 - val_loss: 2585.7910 - val_mae: 41.7565\n",
            "Epoch 80/100\n",
            "\u001b[1m10/10\u001b[0m \u001b[32m━━━━━━━━━━━━━━━━━━━━\u001b[0m\u001b[37m\u001b[0m \u001b[1m0s\u001b[0m 10ms/step - loss: 2752.8325 - mae: 41.0672 - val_loss: 2610.3667 - val_mae: 41.9571\n",
            "Epoch 81/100\n",
            "\u001b[1m10/10\u001b[0m \u001b[32m━━━━━━━━━━━━━━━━━━━━\u001b[0m\u001b[37m\u001b[0m \u001b[1m0s\u001b[0m 10ms/step - loss: 2881.8713 - mae: 42.6005 - val_loss: 2675.2705 - val_mae: 41.9032\n",
            "Epoch 82/100\n",
            "\u001b[1m10/10\u001b[0m \u001b[32m━━━━━━━━━━━━━━━━━━━━\u001b[0m\u001b[37m\u001b[0m \u001b[1m0s\u001b[0m 10ms/step - loss: 2709.8484 - mae: 40.9919 - val_loss: 2529.1443 - val_mae: 41.1474\n",
            "Epoch 83/100\n",
            "\u001b[1m10/10\u001b[0m \u001b[32m━━━━━━━━━━━━━━━━━━━━\u001b[0m\u001b[37m\u001b[0m \u001b[1m0s\u001b[0m 10ms/step - loss: 2817.0781 - mae: 41.5074 - val_loss: 2540.2224 - val_mae: 41.2292\n",
            "Epoch 84/100\n",
            "\u001b[1m10/10\u001b[0m \u001b[32m━━━━━━━━━━━━━━━━━━━━\u001b[0m\u001b[37m\u001b[0m \u001b[1m0s\u001b[0m 11ms/step - loss: 2915.5769 - mae: 41.8961 - val_loss: 2605.5198 - val_mae: 41.9601\n",
            "Epoch 85/100\n",
            "\u001b[1m10/10\u001b[0m \u001b[32m━━━━━━━━━━━━━━━━━━━━\u001b[0m\u001b[37m\u001b[0m \u001b[1m0s\u001b[0m 11ms/step - loss: 3079.0322 - mae: 43.0593 - val_loss: 2626.6851 - val_mae: 41.4823\n",
            "Epoch 86/100\n",
            "\u001b[1m10/10\u001b[0m \u001b[32m━━━━━━━━━━━━━━━━━━━━\u001b[0m\u001b[37m\u001b[0m \u001b[1m0s\u001b[0m 11ms/step - loss: 2952.2712 - mae: 42.8814 - val_loss: 2621.5430 - val_mae: 41.5735\n",
            "Epoch 87/100\n",
            "\u001b[1m10/10\u001b[0m \u001b[32m━━━━━━━━━━━━━━━━━━━━\u001b[0m\u001b[37m\u001b[0m \u001b[1m0s\u001b[0m 12ms/step - loss: 2686.6389 - mae: 41.5527 - val_loss: 2600.5273 - val_mae: 42.1589\n",
            "Epoch 88/100\n",
            "\u001b[1m10/10\u001b[0m \u001b[32m━━━━━━━━━━━━━━━━━━━━\u001b[0m\u001b[37m\u001b[0m \u001b[1m0s\u001b[0m 11ms/step - loss: 3157.9961 - mae: 45.5067 - val_loss: 2646.8159 - val_mae: 42.4416\n",
            "Epoch 89/100\n",
            "\u001b[1m10/10\u001b[0m \u001b[32m━━━━━━━━━━━━━━━━━━━━\u001b[0m\u001b[37m\u001b[0m \u001b[1m0s\u001b[0m 11ms/step - loss: 2565.6404 - mae: 40.4269 - val_loss: 2674.5322 - val_mae: 42.0290\n",
            "Epoch 90/100\n",
            "\u001b[1m10/10\u001b[0m \u001b[32m━━━━━━━━━━━━━━━━━━━━\u001b[0m\u001b[37m\u001b[0m \u001b[1m0s\u001b[0m 11ms/step - loss: 2803.3086 - mae: 42.4094 - val_loss: 2548.3552 - val_mae: 41.2860\n",
            "Epoch 91/100\n",
            "\u001b[1m10/10\u001b[0m \u001b[32m━━━━━━━━━━━━━━━━━━━━\u001b[0m\u001b[37m\u001b[0m \u001b[1m0s\u001b[0m 13ms/step - loss: 3188.0244 - mae: 44.1154 - val_loss: 2535.5032 - val_mae: 41.4700\n",
            "Epoch 92/100\n",
            "\u001b[1m10/10\u001b[0m \u001b[32m━━━━━━━━━━━━━━━━━━━━\u001b[0m\u001b[37m\u001b[0m \u001b[1m0s\u001b[0m 12ms/step - loss: 3126.4397 - mae: 44.1358 - val_loss: 2633.2693 - val_mae: 41.8735\n",
            "Epoch 93/100\n",
            "\u001b[1m10/10\u001b[0m \u001b[32m━━━━━━━━━━━━━━━━━━━━\u001b[0m\u001b[37m\u001b[0m \u001b[1m0s\u001b[0m 11ms/step - loss: 2847.8376 - mae: 42.4438 - val_loss: 2700.2520 - val_mae: 42.0975\n",
            "Epoch 94/100\n",
            "\u001b[1m10/10\u001b[0m \u001b[32m━━━━━━━━━━━━━━━━━━━━\u001b[0m\u001b[37m\u001b[0m \u001b[1m0s\u001b[0m 11ms/step - loss: 3261.1199 - mae: 45.3764 - val_loss: 2490.1838 - val_mae: 40.8993\n",
            "Epoch 95/100\n",
            "\u001b[1m10/10\u001b[0m \u001b[32m━━━━━━━━━━━━━━━━━━━━\u001b[0m\u001b[37m\u001b[0m \u001b[1m0s\u001b[0m 10ms/step - loss: 2944.1729 - mae: 43.6577 - val_loss: 2777.0989 - val_mae: 41.9774\n",
            "Epoch 96/100\n",
            "\u001b[1m10/10\u001b[0m \u001b[32m━━━━━━━━━━━━━━━━━━━━\u001b[0m\u001b[37m\u001b[0m \u001b[1m0s\u001b[0m 12ms/step - loss: 3006.8408 - mae: 43.4566 - val_loss: 2435.8291 - val_mae: 40.6240\n",
            "Epoch 97/100\n",
            "\u001b[1m10/10\u001b[0m \u001b[32m━━━━━━━━━━━━━━━━━━━━\u001b[0m\u001b[37m\u001b[0m \u001b[1m0s\u001b[0m 15ms/step - loss: 2548.6638 - mae: 39.7085 - val_loss: 2567.8352 - val_mae: 41.2369\n",
            "Epoch 98/100\n",
            "\u001b[1m10/10\u001b[0m \u001b[32m━━━━━━━━━━━━━━━━━━━━\u001b[0m\u001b[37m\u001b[0m \u001b[1m0s\u001b[0m 11ms/step - loss: 2834.1895 - mae: 43.2557 - val_loss: 2476.5750 - val_mae: 40.4063\n",
            "Epoch 99/100\n",
            "\u001b[1m10/10\u001b[0m \u001b[32m━━━━━━━━━━━━━━━━━━━━\u001b[0m\u001b[37m\u001b[0m \u001b[1m0s\u001b[0m 12ms/step - loss: 3061.0500 - mae: 44.0157 - val_loss: 2517.4102 - val_mae: 41.0071\n",
            "Epoch 100/100\n",
            "\u001b[1m10/10\u001b[0m \u001b[32m━━━━━━━━━━━━━━━━━━━━\u001b[0m\u001b[37m\u001b[0m \u001b[1m0s\u001b[0m 14ms/step - loss: 3079.0942 - mae: 45.2453 - val_loss: 2528.7202 - val_mae: 41.2417\n"
          ]
        }
      ]
    },
    {
      "cell_type": "markdown",
      "source": [
        "## Representación de las curvas de entrenamiento/validación"
      ],
      "metadata": {
        "id": "gc6E2DhINsmk"
      }
    },
    {
      "cell_type": "code",
      "source": [
        "import matplotlib.pyplot as plt\n",
        "\n",
        "# Extraer la historia de entrenamiento\n",
        "train_loss_1 = history.history['loss']\n",
        "val_loss_1 = history.history['val_loss']\n",
        "\n",
        "# Crear el eje de \"epochs\"\n",
        "epochs_range = range(1, len(train_loss_1) + 1)\n",
        "\n",
        "# Plot\n",
        "plt.figure(figsize=(8, 5))\n",
        "plt.plot(epochs_range, train_loss_1, label='Error en Train')\n",
        "plt.plot(epochs_range, val_loss_1, label='Error en Val')\n",
        "plt.title('Errores durante el entrenamiento')\n",
        "plt.xlabel('epochs (iteraciones red neuronal)')\n",
        "plt.ylabel('Pérdida')\n",
        "plt.legend()\n",
        "\n",
        "plt.tight_layout()\n",
        "plt.show()"
      ],
      "metadata": {
        "id": "CwJsPL8mN4dM",
        "colab": {
          "base_uri": "https://localhost:8080/",
          "height": 507
        },
        "outputId": "b22665f4-e603-4eff-e3d5-2727e8506c1e"
      },
      "execution_count": 16,
      "outputs": [
        {
          "output_type": "display_data",
          "data": {
            "text/plain": [
              "<Figure size 800x500 with 1 Axes>"
            ],
            "image/png": "[encoded data removed]"
          },
          "metadata": {}
        }
      ]
    },
    {
      "cell_type": "markdown",
      "source": [
        "🔴 A partir de las 60 ~ 80 repeticiones, no parece haber cambios en la disminución del error en Train."
      ],
      "metadata": {
        "id": "FjYMtTtAhrMY"
      }
    },
    {
      "cell_type": "markdown",
      "source": [
        "## Aplicar métodos de regularización"
      ],
      "metadata": {
        "id": "IPB3X7JKOz1j"
      }
    },
    {
      "cell_type": "markdown",
      "source": [
        "🔴 Ya apliqué \"dropout_rate\" como parte de los hiperparámetros, y ahora que se me pide un nuevo método de regularización (tras haber visto la gráfica), y en mi investigación me he encontrado con \"EarlyStopping\", un método que detiene el entrenamiento cuando la métrica de validación deja de mejorar, lo que optimizaría el tiempo de entrenamiento.\n",
        "\n",
        "Aplicaré el modelo de nuevo, junto con la visualización anterior para ver los cambios."
      ],
      "metadata": {
        "id": "0N8-EYKJj-F1"
      }
    },
    {
      "cell_type": "code",
      "source": [
        "from tensorflow.keras.callbacks import EarlyStopping\n",
        "from tensorflow.keras.models import load_model\n",
        "\n",
        "# Recuperamos el modelo que compilamos anteriormente, para ahorrar recursos y no compilar múltiples veces\n",
        "# (No vamos a añadir ningún método que tenga que agregarse dentro de model)\n",
        "model_1 = load_model('modelo_compilado.keras')\n",
        "\n",
        "early_stop = EarlyStopping(monitor='val_loss', patience=10, restore_best_weights=True)\n",
        "\n",
        "history_1 = model_1.fit(\n",
        "    X_train_s,\n",
        "    y_train,\n",
        "    epochs=epochs,\n",
        "    batch_size=batch_size,\n",
        "    validation_data=(X_val_s, y_val),\n",
        "    callbacks=[early_stop]\n",
        ")"
      ],
      "metadata": {
        "id": "s0AVmFI8POPV",
        "colab": {
          "base_uri": "https://localhost:8080/"
        },
        "outputId": "573ffe1d-9739-477f-d420-812190d2a655"
      },
      "execution_count": 17,
      "outputs": [
        {
          "output_type": "stream",
          "name": "stdout",
          "text": [
            "Epoch 1/100\n"
          ]
        },
        {
          "output_type": "stream",
          "name": "stderr",
          "text": [
            "/usr/local/lib/python3.11/dist-packages/keras/src/saving/saving_lib.py:757: UserWarning: Skipping variable loading for optimizer 'adam', because it has 14 variables whereas the saved optimizer has 2 variables. \n",
            "  saveable.load_own_variables(weights_store.get(inner_path))\n"
          ]
        },
        {
          "output_type": "stream",
          "name": "stdout",
          "text": [
            "\u001b[1m10/10\u001b[0m \u001b[32m━━━━━━━━━━━━━━━━━━━━\u001b[0m\u001b[37m\u001b[0m \u001b[1m1s\u001b[0m 31ms/step - loss: 28930.8770 - mae: 152.5556 - val_loss: 20489.1172 - val_mae: 126.5024\n",
            "Epoch 2/100\n",
            "\u001b[1m10/10\u001b[0m \u001b[32m━━━━━━━━━━━━━━━━━━━━\u001b[0m\u001b[37m\u001b[0m \u001b[1m0s\u001b[0m 11ms/step - loss: 24360.0371 - mae: 135.7265 - val_loss: 12515.5518 - val_mae: 93.1233\n",
            "Epoch 3/100\n",
            "\u001b[1m10/10\u001b[0m \u001b[32m━━━━━━━━━━━━━━━━━━━━\u001b[0m\u001b[37m\u001b[0m \u001b[1m0s\u001b[0m 10ms/step - loss: 13419.7637 - mae: 94.3517 - val_loss: 4029.5020 - val_mae: 51.0052\n",
            "Epoch 4/100\n",
            "\u001b[1m10/10\u001b[0m \u001b[32m━━━━━━━━━━━━━━━━━━━━\u001b[0m\u001b[37m\u001b[0m \u001b[1m0s\u001b[0m 11ms/step - loss: 6325.9927 - mae: 60.4087 - val_loss: 5167.2310 - val_mae: 57.7693\n",
            "Epoch 5/100\n",
            "\u001b[1m10/10\u001b[0m \u001b[32m━━━━━━━━━━━━━━━━━━━━\u001b[0m\u001b[37m\u001b[0m \u001b[1m0s\u001b[0m 11ms/step - loss: 6369.7100 - mae: 62.2119 - val_loss: 3274.4607 - val_mae: 48.1700\n",
            "Epoch 6/100\n",
            "\u001b[1m10/10\u001b[0m \u001b[32m━━━━━━━━━━━━━━━━━━━━\u001b[0m\u001b[37m\u001b[0m \u001b[1m0s\u001b[0m 15ms/step - loss: 4625.7915 - mae: 53.9181 - val_loss: 2766.1726 - val_mae: 43.7070\n",
            "Epoch 7/100\n",
            "\u001b[1m10/10\u001b[0m \u001b[32m━━━━━━━━━━━━━━━━━━━━\u001b[0m\u001b[37m\u001b[0m \u001b[1m0s\u001b[0m 11ms/step - loss: 3782.1343 - mae: 48.5011 - val_loss: 2790.2749 - val_mae: 42.5078\n",
            "Epoch 8/100\n",
            "\u001b[1m10/10\u001b[0m \u001b[32m━━━━━━━━━━━━━━━━━━━━\u001b[0m\u001b[37m\u001b[0m \u001b[1m0s\u001b[0m 12ms/step - loss: 3709.8877 - mae: 47.1006 - val_loss: 2700.7231 - val_mae: 42.2618\n",
            "Epoch 9/100\n",
            "\u001b[1m10/10\u001b[0m \u001b[32m━━━━━━━━━━━━━━━━━━━━\u001b[0m\u001b[37m\u001b[0m \u001b[1m0s\u001b[0m 11ms/step - loss: 3755.4023 - mae: 48.8973 - val_loss: 2469.4907 - val_mae: 40.7437\n",
            "Epoch 10/100\n",
            "\u001b[1m10/10\u001b[0m \u001b[32m━━━━━━━━━━━━━━━━━━━━\u001b[0m\u001b[37m\u001b[0m \u001b[1m0s\u001b[0m 10ms/step - loss: 3966.1809 - mae: 49.2580 - val_loss: 2601.7480 - val_mae: 41.6557\n",
            "Epoch 11/100\n",
            "\u001b[1m10/10\u001b[0m \u001b[32m━━━━━━━━━━━━━━━━━━━━\u001b[0m\u001b[37m\u001b[0m \u001b[1m0s\u001b[0m 12ms/step - loss: 3586.4351 - mae: 46.0470 - val_loss: 2547.5889 - val_mae: 40.6952\n",
            "Epoch 12/100\n",
            "\u001b[1m10/10\u001b[0m \u001b[32m━━━━━━━━━━━━━━━━━━━━\u001b[0m\u001b[37m\u001b[0m \u001b[1m0s\u001b[0m 13ms/step - loss: 3410.4580 - mae: 46.6502 - val_loss: 2370.2800 - val_mae: 39.1470\n",
            "Epoch 13/100\n",
            "\u001b[1m10/10\u001b[0m \u001b[32m━━━━━━━━━━━━━━━━━━━━\u001b[0m\u001b[37m\u001b[0m \u001b[1m0s\u001b[0m 16ms/step - loss: 3556.4822 - mae: 47.8675 - val_loss: 2356.4849 - val_mae: 38.9627\n",
            "Epoch 14/100\n",
            "\u001b[1m10/10\u001b[0m \u001b[32m━━━━━━━━━━━━━━━━━━━━\u001b[0m\u001b[37m\u001b[0m \u001b[1m0s\u001b[0m 12ms/step - loss: 3168.8762 - mae: 43.8010 - val_loss: 2422.2134 - val_mae: 39.4970\n",
            "Epoch 15/100\n",
            "\u001b[1m10/10\u001b[0m \u001b[32m━━━━━━━━━━━━━━━━━━━━\u001b[0m\u001b[37m\u001b[0m \u001b[1m0s\u001b[0m 13ms/step - loss: 3539.8091 - mae: 47.8315 - val_loss: 2397.9187 - val_mae: 38.9854\n",
            "Epoch 16/100\n",
            "\u001b[1m10/10\u001b[0m \u001b[32m━━━━━━━━━━━━━━━━━━━━\u001b[0m\u001b[37m\u001b[0m \u001b[1m0s\u001b[0m 15ms/step - loss: 2917.5957 - mae: 42.6209 - val_loss: 2410.2056 - val_mae: 39.3035\n",
            "Epoch 17/100\n",
            "\u001b[1m10/10\u001b[0m \u001b[32m━━━━━━━━━━━━━━━━━━━━\u001b[0m\u001b[37m\u001b[0m \u001b[1m0s\u001b[0m 11ms/step - loss: 3553.9482 - mae: 47.3140 - val_loss: 2381.4304 - val_mae: 39.0651\n",
            "Epoch 18/100\n",
            "\u001b[1m10/10\u001b[0m \u001b[32m━━━━━━━━━━━━━━━━━━━━\u001b[0m\u001b[37m\u001b[0m \u001b[1m0s\u001b[0m 11ms/step - loss: 3289.3479 - mae: 45.0451 - val_loss: 2451.0608 - val_mae: 39.5224\n",
            "Epoch 19/100\n",
            "\u001b[1m10/10\u001b[0m \u001b[32m━━━━━━━━━━━━━━━━━━━━\u001b[0m\u001b[37m\u001b[0m \u001b[1m0s\u001b[0m 12ms/step - loss: 3256.0427 - mae: 43.9380 - val_loss: 2365.9756 - val_mae: 38.8795\n",
            "Epoch 20/100\n",
            "\u001b[1m10/10\u001b[0m \u001b[32m━━━━━━━━━━━━━━━━━━━━\u001b[0m\u001b[37m\u001b[0m \u001b[1m0s\u001b[0m 18ms/step - loss: 3672.7964 - mae: 47.7656 - val_loss: 2425.7014 - val_mae: 39.1010\n",
            "Epoch 21/100\n",
            "\u001b[1m10/10\u001b[0m \u001b[32m━━━━━━━━━━━━━━━━━━━━\u001b[0m\u001b[37m\u001b[0m \u001b[1m0s\u001b[0m 15ms/step - loss: 2794.6731 - mae: 42.2042 - val_loss: 2491.6880 - val_mae: 39.9559\n",
            "Epoch 22/100\n",
            "\u001b[1m10/10\u001b[0m \u001b[32m━━━━━━━━━━━━━━━━━━━━\u001b[0m\u001b[37m\u001b[0m \u001b[1m0s\u001b[0m 19ms/step - loss: 3361.0364 - mae: 45.6394 - val_loss: 2464.7893 - val_mae: 39.6618\n",
            "Epoch 23/100\n",
            "\u001b[1m10/10\u001b[0m \u001b[32m━━━━━━━━━━━━━━━━━━━━\u001b[0m\u001b[37m\u001b[0m \u001b[1m0s\u001b[0m 17ms/step - loss: 3163.4761 - mae: 45.4142 - val_loss: 2326.4675 - val_mae: 38.9135\n",
            "Epoch 24/100\n",
            "\u001b[1m10/10\u001b[0m \u001b[32m━━━━━━━━━━━━━━━━━━━━\u001b[0m\u001b[37m\u001b[0m \u001b[1m0s\u001b[0m 19ms/step - loss: 3081.8193 - mae: 44.2902 - val_loss: 2407.1863 - val_mae: 39.1582\n",
            "Epoch 25/100\n",
            "\u001b[1m10/10\u001b[0m \u001b[32m━━━━━━━━━━━━━━━━━━━━\u001b[0m\u001b[37m\u001b[0m \u001b[1m0s\u001b[0m 19ms/step - loss: 2709.1306 - mae: 41.2782 - val_loss: 2366.5149 - val_mae: 39.1746\n",
            "Epoch 26/100\n",
            "\u001b[1m10/10\u001b[0m \u001b[32m━━━━━━━━━━━━━━━━━━━━\u001b[0m\u001b[37m\u001b[0m \u001b[1m0s\u001b[0m 16ms/step - loss: 3130.3977 - mae: 43.4759 - val_loss: 2464.6582 - val_mae: 40.0400\n",
            "Epoch 27/100\n",
            "\u001b[1m10/10\u001b[0m \u001b[32m━━━━━━━━━━━━━━━━━━━━\u001b[0m\u001b[37m\u001b[0m \u001b[1m0s\u001b[0m 14ms/step - loss: 2921.9587 - mae: 43.3626 - val_loss: 2435.4143 - val_mae: 39.7430\n",
            "Epoch 28/100\n",
            "\u001b[1m10/10\u001b[0m \u001b[32m━━━━━━━━━━━━━━━━━━━━\u001b[0m\u001b[37m\u001b[0m \u001b[1m0s\u001b[0m 11ms/step - loss: 3068.3428 - mae: 44.3341 - val_loss: 2522.7773 - val_mae: 40.6334\n",
            "Epoch 29/100\n",
            "\u001b[1m10/10\u001b[0m \u001b[32m━━━━━━━━━━━━━━━━━━━━\u001b[0m\u001b[37m\u001b[0m \u001b[1m0s\u001b[0m 11ms/step - loss: 2883.2468 - mae: 42.5299 - val_loss: 2580.6301 - val_mae: 40.4496\n",
            "Epoch 30/100\n",
            "\u001b[1m10/10\u001b[0m \u001b[32m━━━━━━━━━━━━━━━━━━━━\u001b[0m\u001b[37m\u001b[0m \u001b[1m0s\u001b[0m 11ms/step - loss: 3480.6565 - mae: 45.3573 - val_loss: 2359.4614 - val_mae: 38.9589\n",
            "Epoch 31/100\n",
            "\u001b[1m10/10\u001b[0m \u001b[32m━━━━━━━━━━━━━━━━━━━━\u001b[0m\u001b[37m\u001b[0m \u001b[1m0s\u001b[0m 12ms/step - loss: 3350.3774 - mae: 44.6829 - val_loss: 2385.3655 - val_mae: 39.2790\n",
            "Epoch 32/100\n",
            "\u001b[1m10/10\u001b[0m \u001b[32m━━━━━━━━━━━━━━━━━━━━\u001b[0m\u001b[37m\u001b[0m \u001b[1m0s\u001b[0m 15ms/step - loss: 3111.8306 - mae: 44.9030 - val_loss: 2514.9260 - val_mae: 40.3148\n",
            "Epoch 33/100\n",
            "\u001b[1m10/10\u001b[0m \u001b[32m━━━━━━━━━━━━━━━━━━━━\u001b[0m\u001b[37m\u001b[0m \u001b[1m0s\u001b[0m 14ms/step - loss: 3314.5247 - mae: 46.4855 - val_loss: 2336.1321 - val_mae: 38.8482\n"
          ]
        }
      ]
    },
    {
      "cell_type": "code",
      "source": [
        "import matplotlib.pyplot as plt\n",
        "\n",
        "# Extraer la historia de entrenamiento\n",
        "train_loss_1 = history_1.history['loss']   # Pérdida en Train\n",
        "val_loss_1 = history_1.history['val_loss'] # Pérdida en validacion\n",
        "\n",
        "# Crear el eje de \"epochs\"\n",
        "epochs_range = range(1, len(train_loss_1) + 1)\n",
        "\n",
        "# Plot\n",
        "plt.figure(figsize=(8, 5))\n",
        "plt.plot(epochs_range, train_loss_1, label='Error en Train')\n",
        "plt.plot(epochs_range, val_loss_1, label='Error en Val')\n",
        "plt.title('Errores durante el entrenamiento')\n",
        "plt.xlabel('epochs (iteraciones red neuronal)')\n",
        "plt.ylabel('Pérdida')\n",
        "plt.legend()\n",
        "\n",
        "plt.tight_layout()\n",
        "plt.show()"
      ],
      "metadata": {
        "colab": {
          "base_uri": "https://localhost:8080/",
          "height": 507
        },
        "id": "L9KP4iXplcVs",
        "outputId": "a79b1fe8-d8ec-4ae8-e851-91ed21ca0d19"
      },
      "execution_count": 18,
      "outputs": [
        {
          "output_type": "display_data",
          "data": {
            "text/plain": [
              "<Figure size 800x500 with 1 Axes>"
            ],
            "image/png": "[encoded data removed]"
          },
          "metadata": {}
        }
      ]
    },
    {
      "cell_type": "markdown",
      "source": [
        "🔴 Ahora podemos apreciar cómo efectivamente \"EarlyStopping\" evita el uso de recursos innecesarios para la optimización del modelo."
      ],
      "metadata": {
        "id": "kNpvhdrVmgpw"
      }
    },
    {
      "cell_type": "markdown",
      "source": [
        "## Selección del mejor modelo"
      ],
      "metadata": {
        "id": "jZn4jlr1POsi"
      }
    },
    {
      "cell_type": "markdown",
      "source": [
        "🔴 Voy a comparar mi modelo con la versión más simple (model_0) y con una versión de model_1 con un método de regularización más (model_2).\n",
        "\n",
        "La regulación L2 de model_2 sirve para evitar sobreajustes, penalizando el valor de los pesos grandes en la función de pérdida (que mide la diferencia entre las predicciones realizadas por un modelo y los valores reales o esperados):"
      ],
      "metadata": {
        "id": "lU8QOsVQAlpz"
      }
    },
    {
      "cell_type": "code",
      "source": [
        "from tensorflow.keras.models import Sequential\n",
        "from tensorflow.keras.layers import Dense, Dropout\n",
        "from tensorflow.keras import regularizers\n",
        "\n",
        "# Red neuronal secuencial simple\n",
        "model_0 = Sequential([\n",
        "    Dense(64, activation='relu', input_shape=(input_shape,)),\n",
        "    Dense(32, activation='relu'),\n",
        "    Dense(1)\n",
        "])\n",
        "\n",
        "# Red neuronal model_1 + regularizador L2 (evitar un sobreajuste)\n",
        "model_2 = Sequential([\n",
        "    Dense(hidden_units_1, activation='relu', input_shape=(input_shape,), kernel_regularizer=regularizers.l2(0.001)),\n",
        "    Dropout(dropout_rate),\n",
        "    Dense(hidden_units_2, activation='relu', kernel_regularizer=regularizers.l2(0.001)),\n",
        "    Dense(1)\n",
        "])"
      ],
      "metadata": {
        "colab": {
          "base_uri": "https://localhost:8080/"
        },
        "id": "y7RSJSp1pECo",
        "outputId": "72f7361e-9a8f-44f1-aa8c-067bfd8b6349"
      },
      "execution_count": 19,
      "outputs": [
        {
          "output_type": "stream",
          "name": "stderr",
          "text": [
            "/usr/local/lib/python3.11/dist-packages/keras/src/layers/core/dense.py:87: UserWarning: Do not pass an `input_shape`/`input_dim` argument to a layer. When using Sequential models, prefer using an `Input(shape)` object as the first layer in the model instead.\n",
            "  super().__init__(activity_regularizer=activity_regularizer, **kwargs)\n"
          ]
        }
      ]
    },
    {
      "cell_type": "code",
      "source": [
        "from tensorflow.keras.optimizers import Adam\n",
        "\n",
        "model_0.compile(\n",
        "    optimizer=Adam(learning_rate=learning_rate),\n",
        "    loss='mse',       # Función de pérdida para regresión , también podemos poner 'mean_squared_error'\n",
        "    metrics=['mae']   # Métrica común para regresión, también podemos poner ['mean_absolute_error']\n",
        ")\n",
        "\n",
        "model_2.compile(\n",
        "    optimizer=Adam(learning_rate=learning_rate),\n",
        "    loss='mse',\n",
        "    metrics=['mae']\n",
        ")"
      ],
      "metadata": {
        "id": "Fn9meTgKDW9z"
      },
      "execution_count": 20,
      "outputs": []
    },
    {
      "cell_type": "code",
      "source": [
        "# Entrenar modelos (con EarlyStopping):\n",
        "\n",
        "from tensorflow.keras.callbacks import EarlyStopping\n",
        "from tensorflow.keras.models import load_model\n",
        "\n",
        "\n",
        "early_stop = EarlyStopping(monitor='val_loss', patience=10, restore_best_weights=True)\n",
        "\n",
        "history_0 = model_0.fit(\n",
        "    X_train_s, y_train,\n",
        "    epochs=epochs,\n",
        "    batch_size=batch_size,\n",
        "    validation_data=(X_val_s, y_val),\n",
        "    callbacks=[early_stop],\n",
        "    verbose=0   # Evitamos el output\n",
        ")\n",
        "\n",
        "history_2 = model_2.fit(\n",
        "    X_train_s, y_train,\n",
        "    epochs=epochs,\n",
        "    batch_size=batch_size,\n",
        "    validation_data=(X_val_s, y_val),\n",
        "    callbacks=[early_stop],\n",
        "    verbose=0   # Evitamos el output\n",
        ")"
      ],
      "metadata": {
        "id": "GFmQBaLED2vW"
      },
      "execution_count": 21,
      "outputs": []
    },
    {
      "cell_type": "code",
      "source": [
        "import matplotlib.pyplot as plt\n",
        "\n",
        "# Graficar pérdida de validación\n",
        "plt.plot(history_0.history['val_loss'], label='Modelo_0')\n",
        "plt.plot(history_1.history['val_loss'], label='Modelo_1')\n",
        "plt.plot(history_2.history['val_loss'], label='Modelo_2')\n",
        "plt.title('Comparación de pérdida en validación')\n",
        "plt.xlabel('Iteraciones')\n",
        "plt.ylabel('MSE')\n",
        "plt.legend()\n",
        "plt.show()"
      ],
      "metadata": {
        "colab": {
          "base_uri": "https://localhost:8080/",
          "height": 472
        },
        "id": "qDoAFXL_Fb5O",
        "outputId": "ee5d31fc-8602-49cd-8a96-16425f289ba2"
      },
      "execution_count": 22,
      "outputs": [
        {
          "output_type": "display_data",
          "data": {
            "text/plain": [
              "<Figure size 640x480 with 1 Axes>"
            ],
            "image/png": "[encoded data removed]"
          },
          "metadata": {}
        }
      ]
    },
    {
      "cell_type": "markdown",
      "source": [
        "## Cálculo del desempeño del modelo selecionado"
      ],
      "metadata": {
        "id": "RJmw3rBDPP-j"
      }
    },
    {
      "cell_type": "code",
      "source": [
        "# Evaluar modelo1 en test\n",
        "\n",
        "loss0, mae0 = model_0.evaluate(X_test_s, y_test)\n",
        "\n",
        "loss1, mae1 = model_1.evaluate(X_test_s, y_test)\n",
        "\n",
        "loss2, mae2 = model_2.evaluate(X_test_s, y_test)\n",
        "print(\"\\n\\nmean_absolute_error:\\n\")\n",
        "print(f\"Modelo_0: Loss={loss0:.2f}, MAE={mae1:.2f}\")\n",
        "print(f\"Modelo_1: Loss={loss1:.2f}, MAE={mae1:.2f}\")\n",
        "print(f\"Modelo_2: Loss={loss2:.2f}, MAE={mae2:.2f}\")"
      ],
      "metadata": {
        "id": "cRA5hK3PPYpL",
        "colab": {
          "base_uri": "https://localhost:8080/"
        },
        "outputId": "5e23079e-166c-4fe2-a98c-429345a00779"
      },
      "execution_count": 23,
      "outputs": [
        {
          "output_type": "stream",
          "name": "stdout",
          "text": [
            "\u001b[1m3/3\u001b[0m \u001b[32m━━━━━━━━━━━━━━━━━━━━\u001b[0m\u001b[37m\u001b[0m \u001b[1m0s\u001b[0m 15ms/step - loss: 1993.4135 - mae: 35.6275\n",
            "\u001b[1m3/3\u001b[0m \u001b[32m━━━━━━━━━━━━━━━━━━━━\u001b[0m\u001b[37m\u001b[0m \u001b[1m0s\u001b[0m 14ms/step - loss: 2105.1741 - mae: 36.8146\n",
            "\u001b[1m3/3\u001b[0m \u001b[32m━━━━━━━━━━━━━━━━━━━━\u001b[0m\u001b[37m\u001b[0m \u001b[1m0s\u001b[0m 20ms/step - loss: 1957.9673 - mae: 35.5508\n",
            "\n",
            "\n",
            "mean_absolute_error:\n",
            "\n",
            "Modelo_0: Loss=2026.46, MAE=36.96\n",
            "Modelo_1: Loss=2152.41, MAE=36.96\n",
            "Modelo_2: Loss=2031.56, MAE=35.66\n"
          ]
        }
      ]
    },
    {
      "cell_type": "markdown",
      "source": [
        "# 🟥 CONCLUSIONES 🟥\n",
        "\n",
        "🔴 El modelo_2 es el que presenta un mejor desempeño, ya que presenta menor pérdida y menor MAE (error absoluto medio) en la mayoría de las ocasiones.\n",
        "\n",
        "🔴 El modelo_0 y el modelo_1 son similares en MAE, lo que indica que en promedio se equivocan lo mismo. Sin embargo, modelo_0 tiene mayor \"loss\" (establecido en el modelo como MSE o error cuadrático medio), lo que parece indicar que los errores del modelo_0 son más grandes en ciertas muestras que los del modelo_1 (MSE penaliza mucho los errores extremos)."
      ],
      "metadata": {
        "id": "IgrH7KWBgKmZ"
      }
    }
  ]
}